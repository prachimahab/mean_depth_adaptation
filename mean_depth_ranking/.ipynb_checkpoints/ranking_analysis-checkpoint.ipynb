{
 "cells": [
  {
   "cell_type": "code",
   "execution_count": 96,
   "metadata": {},
   "outputs": [],
   "source": [
    "import pandas as pd\n",
    "import numpy as np \n",
    "import os \n",
    "import scipy \n",
    "from scipy import stats\n",
    "from scipy.stats import spearmanr\n",
    "import matplotlib.pyplot as plt"
   ]
  },
  {
   "cell_type": "code",
   "execution_count": 2,
   "metadata": {},
   "outputs": [],
   "source": [
    "path = '/Users/prachimahableshwarkar/Documents/GW/MeanDepth_Adaptation/mean_depth_adaptation/mean_depth_ranking/cleaned_data.csv'\n",
    "\n",
    "df = pd.read_csv(path)"
   ]
  },
  {
   "cell_type": "code",
   "execution_count": null,
   "metadata": {},
   "outputs": [],
   "source": []
  },
  {
   "cell_type": "code",
   "execution_count": 3,
   "metadata": {},
   "outputs": [
    {
     "data": {
      "text/plain": [
       "(49, 'R_3rUuplGsyBnH5vp')"
      ]
     },
     "execution_count": 3,
     "metadata": {},
     "output_type": "execute_result"
    }
   ],
   "source": [
    "participant_ids = [rid for rid in df.ResponseId.unique() if 'R_' in rid]\n",
    "len(participant_ids), participant_ids[0]"
   ]
  },
  {
   "cell_type": "code",
   "execution_count": 4,
   "metadata": {},
   "outputs": [
    {
     "data": {
      "text/plain": [
       "10"
      ]
     },
     "execution_count": 4,
     "metadata": {},
     "output_type": "execute_result"
    }
   ],
   "source": [
    "catch = {'Q336': 1, 'Q337': 1, 'Q338': 2, 'Q339': 2, 'Q340': 3, 'Q341': 3, 'Q342': 4, 'Q343': 4, 'Q344': 5, 'Q345': 5}\n",
    "\n",
    "catch_questions = list(catch.keys())\n",
    "len(catch_questions)"
   ]
  },
  {
   "cell_type": "code",
   "execution_count": 5,
   "metadata": {},
   "outputs": [],
   "source": [
    "# Q16 Q335\n",
    "questions = [col for col in df.columns.unique() if 'Q' in col and 16 <= int(col[1:]) <= 335]"
   ]
  },
  {
   "cell_type": "code",
   "execution_count": 18,
   "metadata": {},
   "outputs": [],
   "source": [
    "q_data = {}\n",
    "for q in questions:\n",
    "    valid_ranks = [r for r in list(df[q][2:]) if type(r)==str]\n",
    "    q_ranks = list(map(int, valid_ranks))\n",
    "    q_data[q] = [q_ranks, np.mean(q_ranks), np.std(q_ranks)]\n"
   ]
  },
  {
   "cell_type": "code",
   "execution_count": null,
   "metadata": {},
   "outputs": [],
   "source": []
  },
  {
   "cell_type": "code",
   "execution_count": 100,
   "metadata": {},
   "outputs": [],
   "source": [
    "means = [q_data[key][1] for key in q_data]\n",
    "stds = [q_data[key][2] for key in q_data]\n",
    "\n",
    "all_ranks = []\n",
    "for key in q_data:\n",
    "    all_ranks += q_data[key][0]"
   ]
  },
  {
   "cell_type": "code",
   "execution_count": 122,
   "metadata": {},
   "outputs": [
    {
     "data": {
      "image/png": "[encoded data removed]",
      "text/plain": [
       "<Figure size 720x720 with 1 Axes>"
      ]
     },
     "metadata": {
      "needs_background": "light"
     },
     "output_type": "display_data"
    }
   ],
   "source": [
    "fig, ax = plt.subplots(figsize=[10,10])\n",
    "ax.spines['right'].set_visible(False)\n",
    "ax.spines['top'].set_visible(False)\n",
    "\n",
    "plt.title('Distribution of All Rankings', fontsize=18)    \n",
    "plt.hist(all_ranks, color='black')\n",
    "plt.xlabel('Rank', fontsize=15)\n",
    "plt.ylabel('Count', fontsize=15)\n",
    "\n",
    "plt.xticks([1, 2, 3, 4, 5], fontsize=15)\n",
    "plt.yticks(fontsize=15)\n",
    "plt.show();"
   ]
  },
  {
   "cell_type": "code",
   "execution_count": 115,
   "metadata": {},
   "outputs": [
    {
     "data": {
      "image/png": "[encoded data removed]",
      "text/plain": [
       "<Figure size 720x720 with 1 Axes>"
      ]
     },
     "metadata": {
      "needs_background": "light"
     },
     "output_type": "display_data"
    }
   ],
   "source": [
    "fig, ax = plt.subplots(figsize=[10,10])\n",
    "ax.spines['right'].set_visible(False)\n",
    "ax.spines['top'].set_visible(False)\n",
    "\n",
    "plt.title('Distribution of Average Ranking per Image', fontsize=18)\n",
    "plt.hist(means, color='maroon')\n",
    "plt.xticks(fontsize=15)\n",
    "plt.yticks(fontsize=15)\n",
    "plt.show();"
   ]
  },
  {
   "cell_type": "code",
   "execution_count": null,
   "metadata": {},
   "outputs": [],
   "source": []
  },
  {
   "cell_type": "markdown",
   "metadata": {},
   "source": [
    "https://statisticsbyjim.com/basics/spearmans-correlation/"
   ]
  },
  {
   "cell_type": "markdown",
   "metadata": {},
   "source": [
    "## Take Random splits of the data and calculate the average spearman r correlation "
   ]
  },
  {
   "cell_type": "code",
   "execution_count": 81,
   "metadata": {},
   "outputs": [
    {
     "data": {
      "text/plain": [
       "48"
      ]
     },
     "execution_count": 81,
     "metadata": {},
     "output_type": "execute_result"
    }
   ],
   "source": [
    "len(q_data['Q16'][0][:-1])"
   ]
  },
  {
   "cell_type": "code",
   "execution_count": null,
   "metadata": {},
   "outputs": [],
   "source": []
  },
  {
   "cell_type": "code",
   "execution_count": 88,
   "metadata": {},
   "outputs": [],
   "source": [
    "def split_spearman_corr(input_data, n_splits):\n",
    "    \n",
    "    if len(input_data)%2 != 0:\n",
    "        data = input_data[:-1]\n",
    "    else:\n",
    "        data = input_data \n",
    "    \n",
    "    \n",
    "    # Define the number of splits and the split size\n",
    "    split_size = data.shape[0] // 2\n",
    "#     print(split_size)\n",
    "\n",
    "    corr_coeffs = []\n",
    "    pvals = []\n",
    "\n",
    "    # Loop over the splits\n",
    "    for i in range(n_splits):\n",
    "        # Generate a random permutation of the indices\n",
    "        indices = np.random.permutation(data.shape[0])\n",
    "\n",
    "        # Split the data into two parts\n",
    "        split1 = data[indices[:split_size]]\n",
    "        split2 = data[indices[split_size:]]\n",
    "\n",
    "        # Calculate the Spearman's r correlation coefficient\n",
    "        corr, _ = spearmanr(split1, split2)\n",
    "\n",
    "        corr_coeffs.append(corr)\n",
    "        pvals.append(_)\n",
    "\n",
    "    # Calculate the average correlation coefficient\n",
    "    avg_corr = np.mean(corr_coeffs)\n",
    "    \n",
    "    # Print the result\n",
    "#     print(\"Average Spearman's r correlation coefficient:\", avg_corr)\n",
    "#     print(np.mean(pvals))\n",
    "    \n",
    "    return avg_corr, np.mean(pvals)\n",
    "\n",
    "    "
   ]
  },
  {
   "cell_type": "code",
   "execution_count": 91,
   "metadata": {},
   "outputs": [],
   "source": [
    "n = 1000\n",
    "\n",
    "q_corr = {}\n",
    "for key in q_data:\n",
    "    qd = np.array(q_data[key][0])\n",
    "#     print(key)\n",
    "    q_corr[key] = split_spearman_corr(qd, n)\n",
    "    "
   ]
  },
  {
   "cell_type": "code",
   "execution_count": 117,
   "metadata": {},
   "outputs": [
    {
     "data": {
      "text/plain": [
       "{'Q16': (0.005563426392433666, 0.5009820988116772),\n",
       " 'Q17': (-0.0062758812441686, 0.5016046303871782),\n",
       " 'Q18': (-0.0044946170778977805, 0.5123585967725174),\n",
       " 'Q19': (-0.004918441377837569, 0.507325171725678),\n",
       " 'Q20': (0.005933153816860936, 0.4932134231103082),\n",
       " 'Q21': (-0.016047176456097767, 0.4926686355220823),\n",
       " 'Q22': (-0.0023362014457730283, 0.5113143762860715),\n",
       " 'Q23': (0.0032300755103408896, 0.4996693751070505),\n",
       " 'Q24': (0.0011640027913799597, 0.5018812193500168),\n",
       " 'Q25': (-0.0009455607306657017, 0.5098839236110932),\n",
       " 'Q26': (0.004391456321751488, 0.5019253032707366),\n",
       " 'Q27': (0.008381709351721917, 0.4999116795641261),\n",
       " 'Q28': (-0.004497673333541904, 0.5202730758309753),\n",
       " 'Q29': (0.007643107879620949, 0.49738012028867773),\n",
       " 'Q30': (0.008345506396053274, 0.5156525235616729),\n",
       " 'Q31': (-0.002362009958977067, 0.5072676637104162),\n",
       " 'Q32': (0.0014944434865600544, 0.5017018967765283),\n",
       " 'Q33': (-0.0011388788791503379, 0.49712747037635074),\n",
       " 'Q34': (-0.0032786683941946155, 0.5118108722760006),\n",
       " 'Q35': (-0.0013354301769456134, 0.5010479962477117),\n",
       " 'Q36': (0.0017151485911386555, 0.4965799743764037),\n",
       " 'Q37': (-0.005546820131656431, 0.504922539924107),\n",
       " 'Q38': (0.0003448518577930422, 0.48647601602288354),\n",
       " 'Q39': (0.0014888349420785181, 0.4990496505169385),\n",
       " 'Q40': (0.007687204713995374, 0.4913252133904292),\n",
       " 'Q41': (0.003148918265661462, 0.5076319387772004),\n",
       " 'Q42': (0.005465287753562727, 0.4967176323131882),\n",
       " 'Q43': (0.005358594965028049, 0.49515626028375237),\n",
       " 'Q44': (-0.001512958836210256, 0.49443815634072336),\n",
       " 'Q45': (0.0009117729576207582, 0.5095167865513258),\n",
       " 'Q46': (0.0010140038273394381, 0.5053624515521612),\n",
       " 'Q47': (0.006468649702588233, 0.49912451848412526),\n",
       " 'Q48': (0.002373018904703204, 0.5035028085096036),\n",
       " 'Q49': (0.00040819821193432927, 0.4972090324889466),\n",
       " 'Q50': (0.006511015141069402, 0.4912078559415794),\n",
       " 'Q51': (-0.002453177497853948, 0.5088316333385307),\n",
       " 'Q52': (0.006363593416707849, 0.5009937643470393),\n",
       " 'Q53': (0.006751934089133954, 0.49697087565186576),\n",
       " 'Q54': (-0.003775883582670719, 0.5089535644916819),\n",
       " 'Q55': (-0.0061879253522443564, 0.49959922744465024),\n",
       " 'Q56': (0.002421740246664716, 0.50781141630009),\n",
       " 'Q57': (0.0028202345748743157, 0.5132263164792701),\n",
       " 'Q58': (0.004937221089010873, 0.4785290869793731),\n",
       " 'Q59': (-0.011054459139828105, 0.5103830372863281),\n",
       " 'Q60': (0.0021563715247754035, 0.505829908414587),\n",
       " 'Q61': (0.006672232244841036, 0.5057046510108335),\n",
       " 'Q62': (0.0038737967486420816, 0.5040095617724993),\n",
       " 'Q63': (0.0024710843794373866, 0.49445389511153875),\n",
       " 'Q64': (0.0018435860984399154, 0.4990083446646557),\n",
       " 'Q65': (-0.0009925606779015261, 0.49607611197186824),\n",
       " 'Q66': (0.01255403478590184, 0.5011018062664525),\n",
       " 'Q67': (-0.0050967188917522815, 0.501649481550756),\n",
       " 'Q68': (0.0027734647274491033, 0.48437988500953516),\n",
       " 'Q69': (0.011823641846379943, 0.4807261974802698),\n",
       " 'Q70': (0.0009179695167097702, 0.5116123063273145),\n",
       " 'Q71': (0.00744239949085202, 0.5079055687352567),\n",
       " 'Q72': (0.0036258990685046717, 0.49881694307664565),\n",
       " 'Q73': (0.0018057114209458006, 0.5097950897264764),\n",
       " 'Q74': (-0.01903455842904924, 0.4965290366177319),\n",
       " 'Q75': (-0.009130507514369817, 0.49694125791847993),\n",
       " 'Q76': (0.011549782558936517, 0.5000957653190988),\n",
       " 'Q77': (-0.005169267708114112, 0.4991817349594452),\n",
       " 'Q78': (0.0016159425475299786, 0.4819666617718865),\n",
       " 'Q79': (0.008025141738334856, 0.5099695553310222),\n",
       " 'Q80': (0.004016833053404365, 0.4922060105680131),\n",
       " 'Q81': (-0.00113186458696849, 0.4898749949659539),\n",
       " 'Q82': (-0.0035474972140240456, 0.5055914288698751),\n",
       " 'Q83': (0.0007010201030752778, 0.4951972668223975),\n",
       " 'Q84': (-0.002099427613762258, 0.4989803168872169),\n",
       " 'Q85': (-0.010132040763070102, 0.5028842587439816),\n",
       " 'Q86': (0.0002620082454185535, 0.49118305514905347),\n",
       " 'Q87': (0.0018452860633431881, 0.4888799302480942),\n",
       " 'Q88': (-0.006363256206155457, 0.5086479371729528),\n",
       " 'Q89': (-0.009626861743400546, 0.490562640223169),\n",
       " 'Q90': (-0.010620329993326379, 0.4944480612695347),\n",
       " 'Q91': (0.008639105190292097, 0.5002757585764432),\n",
       " 'Q92': (0.007407358774333763, 0.5131289399587877),\n",
       " 'Q93': (-0.002428321056254489, 0.5144957711748871),\n",
       " 'Q95': (-0.011762492823957568, 0.500950118787447),\n",
       " 'Q96': (0.007987241843959967, 0.4995133436716968),\n",
       " 'Q97': (0.006860885193777749, 0.5099401873768836),\n",
       " 'Q98': (9.38035480583288e-06, 0.4972381124823876),\n",
       " 'Q99': (0.005747953107297732, 0.5008807565618718),\n",
       " 'Q100': (5.640247510222407e-05, 0.4923567637620694),\n",
       " 'Q101': (0.004421457579567448, 0.518136821117296),\n",
       " 'Q102': (-0.01192302791583732, 0.49627060452393607),\n",
       " 'Q103': (-0.005503018261570704, 0.5044339420346619),\n",
       " 'Q104': (-0.006565927848360774, 0.5041223506603285),\n",
       " 'Q105': (0.0050658063678244315, 0.4992999159796395),\n",
       " 'Q106': (-0.016637074251258682, 0.49077362616071424),\n",
       " 'Q107': (-0.004468683855127998, 0.5127010244648493),\n",
       " 'Q108': (-0.0030476522579350697, 0.5103825540289598),\n",
       " 'Q109': (-0.001395486015207107, 0.5156570714930921),\n",
       " 'Q110': (-0.0034647152341378195, 0.4911868437704702),\n",
       " 'Q111': (-0.014202862726416783, 0.4983673087972492),\n",
       " 'Q112': (-0.005520583004866536, 0.5019518485640366),\n",
       " 'Q113': (-0.00549350538049311, 0.4991358691723169),\n",
       " 'Q114': (-0.006228923403121505, 0.49054673661088527),\n",
       " 'Q115': (-0.0014636791697367948, 0.4921998910593472),\n",
       " 'Q116': (-0.0067944201869796555, 0.5069510451854555),\n",
       " 'Q117': (-0.0038028827644322333, 0.49435549549578367),\n",
       " 'Q118': (-0.005880831260408142, 0.4954735839278303),\n",
       " 'Q119': (-0.0006287755275023406, 0.48622478778361455),\n",
       " 'Q120': (0.004137363800330231, 0.5057710712073503),\n",
       " 'Q121': (-9.997315373277971e-06, 0.5105680535549987),\n",
       " 'Q122': (-0.003564382735390371, 0.49677380018069084),\n",
       " 'Q123': (0.0015444857576576122, 0.5185517338684865),\n",
       " 'Q124': (0.0036290006543269566, 0.5194709868794812),\n",
       " 'Q125': (0.0033232768858026417, 0.491225428442508),\n",
       " 'Q126': (-0.009261476139014638, 0.48494677077387743),\n",
       " 'Q127': (0.001485347907640858, 0.4970373325908141),\n",
       " 'Q128': (-0.001805885954708248, 0.5100611709481797),\n",
       " 'Q129': (0.007042760339619931, 0.49407483940605207),\n",
       " 'Q130': (-0.0028175400857371946, 0.494253749349133),\n",
       " 'Q131': (-0.004379986890530094, 0.506782753020947),\n",
       " 'Q132': (0.00537008819780879, 0.5004428581686662),\n",
       " 'Q133': (0.012839303895051645, 0.4980179188064427),\n",
       " 'Q134': (0.0054540282789373, 0.5032341803424273),\n",
       " 'Q135': (0.006506949497560353, 0.5099490258387833),\n",
       " 'Q136': (-0.004268428591718619, 0.4912418074506048),\n",
       " 'Q137': (-0.001833903318478876, 0.5055048348203083),\n",
       " 'Q138': (-0.007976743331519749, 0.5055550429314857),\n",
       " 'Q139': (0.003890778733995145, 0.50179700033232),\n",
       " 'Q140': (-0.006213921156949501, 0.510979976510116),\n",
       " 'Q141': (0.003274781376127966, 0.5159601493361821),\n",
       " 'Q142': (0.0010623298182832047, 0.4987274840644776),\n",
       " 'Q143': (0.0055587288876306155, 0.505590834855261),\n",
       " 'Q144': (0.0033057509425308035, 0.5133064942497543),\n",
       " 'Q145': (0.015827799459405566, 0.48167642012808176),\n",
       " 'Q146': (0.0034926407498082437, 0.5066047428460506),\n",
       " 'Q147': (-0.0032582848441097723, 0.49292365270373567),\n",
       " 'Q148': (-0.0045099508615504685, 0.4956464132517984),\n",
       " 'Q149': (-0.007279710105414105, 0.5196656518273219),\n",
       " 'Q150': (-0.003723280740294636, 0.49476406343284984),\n",
       " 'Q151': (-0.0003662856673193744, 0.49428690946945436),\n",
       " 'Q152': (0.0026888252748716655, 0.49643979545134154),\n",
       " 'Q153': (0.007600553525081167, 0.49371728177505064),\n",
       " 'Q154': (-0.011609671966284575, 0.5045318761517679),\n",
       " 'Q155': (0.00031542651337954374, 0.5021477904666615),\n",
       " 'Q156': (-0.0006633234542901087, 0.5234137815065408),\n",
       " 'Q157': (-0.003508528834520383, 0.49816567459819516),\n",
       " 'Q158': (-0.002762927811064062, 0.4891325780982443),\n",
       " 'Q159': (-0.004569550963874484, 0.505217138964218),\n",
       " 'Q160': (0.005235854479881673, 0.5161089959784733),\n",
       " 'Q161': (0.004745064104855055, 0.49518964811505156),\n",
       " 'Q162': (0.00731147196417, 0.4964284905283113),\n",
       " 'Q163': (-0.0002662948392553015, 0.48910584601793),\n",
       " 'Q164': (-0.009305759706195254, 0.4943058603638627),\n",
       " 'Q165': (0.010653169068633379, 0.4904955470849983),\n",
       " 'Q166': (0.002289803179513449, 0.4887151390067701),\n",
       " 'Q167': (0.0022507169386606824, 0.5294296267216898),\n",
       " 'Q168': (-0.002221815694741199, 0.5008344277861243),\n",
       " 'Q169': (0.0056296940429725485, 0.501615538646418),\n",
       " 'Q170': (0.002205732286792461, 0.5151530795928282),\n",
       " 'Q171': (-0.0057424334114256365, 0.5053968484011983),\n",
       " 'Q172': (-0.003619475725124037, 0.4889623841111204),\n",
       " 'Q173': (-0.002194064132135152, 0.4977921421432422),\n",
       " 'Q174': (0.0037327225783907697, 0.5061861624078211),\n",
       " 'Q175': (0.0008734954316288488, 0.49503981777015477),\n",
       " 'Q176': (0.0026710090907482013, 0.5007440953009741),\n",
       " 'Q177': (0.005350600402154999, 0.5070038099584502),\n",
       " 'Q178': (0.012275403972620483, 0.48929095460806366),\n",
       " 'Q179': (-0.0035403665896235914, 0.5101827297513604),\n",
       " 'Q180': (-0.0037238567329065924, 0.5111235788208683),\n",
       " 'Q181': (-0.0012517063861599183, 0.5057247656121491),\n",
       " 'Q182': (0.0005483615042071399, 0.49533826760198324),\n",
       " 'Q183': (-0.005702273428861808, 0.4874289347083104),\n",
       " 'Q184': (0.01016444469470247, 0.5091426629729572),\n",
       " 'Q185': (0.0017343256906839411, 0.4821946676714887),\n",
       " 'Q186': (0.00569026858577008, 0.49672632376669856),\n",
       " 'Q187': (-0.0024815353913077054, 0.4999303875709144),\n",
       " 'Q188': (-0.010440732314772891, 0.5156999857659796),\n",
       " 'Q189': (0.001201683544039978, 0.509011608803669),\n",
       " 'Q190': (0.004935183483072742, 0.5010243320568735),\n",
       " 'Q191': (-0.009779185669871515, 0.5155673111325619),\n",
       " 'Q192': (-0.004850228885164497, 0.4956273248267906),\n",
       " 'Q193': (-0.009256647303467773, 0.5068899542509252),\n",
       " 'Q194': (-0.003649472416107125, 0.5149804341326804),\n",
       " 'Q195': (-0.0018721904910277139, 0.5057666217592065),\n",
       " 'Q196': (-0.018302891624362785, 0.5021228638192508),\n",
       " 'Q197': (0.0009720446613878882, 0.49904289417109704),\n",
       " 'Q198': (0.005335740139469468, 0.5005165066318051),\n",
       " 'Q199': (-0.01008065058738212, 0.5035779170010211),\n",
       " 'Q200': (-0.005093776040271113, 0.5102353626844076),\n",
       " 'Q201': (-0.012668498275683006, 0.5104228057292063),\n",
       " 'Q202': (-0.000946658979452554, 0.4910085047218537),\n",
       " 'Q203': (-0.0014469916761378366, 0.5180327469785118),\n",
       " 'Q204': (-0.0033858448896457354, 0.48939301115120776),\n",
       " 'Q205': (-0.00589954788972302, 0.4978136373443251),\n",
       " 'Q206': (0.012567053581303146, 0.4947309404329677),\n",
       " 'Q207': (-0.01261721559027702, 0.49942960003851705),\n",
       " 'Q208': (0.003148538233946862, 0.4991798493164786),\n",
       " 'Q209': (-0.0007564696302901179, 0.5123949010817828),\n",
       " 'Q210': (0.002078454264044283, 0.5091094585535727),\n",
       " 'Q211': (0.0028745475877878864, 0.49204528299997513),\n",
       " 'Q212': (0.0038811676190668204, 0.49978727979915266),\n",
       " 'Q213': (-0.010792001590927268, 0.48216912811171625),\n",
       " 'Q214': (0.002755115900966685, 0.4884741150411439),\n",
       " 'Q215': (0.012919340496360057, 0.5014674093781094),\n",
       " 'Q216': (-0.0012867880087661066, 0.5039502423082542),\n",
       " 'Q217': (-0.004668287724127776, 0.4917235569250228),\n",
       " 'Q218': (-8.778563155025587e-05, 0.49348844457129476),\n",
       " 'Q219': (-0.0025388048372891694, 0.49654997937803724),\n",
       " 'Q220': (0.0009776623503842214, 0.49491993434995896),\n",
       " 'Q221': (0.011882435727657216, 0.4998162607468511),\n",
       " 'Q222': (0.011644391036380384, 0.4997078672135225),\n",
       " 'Q223': (-0.004658673272207454, 0.4887484737941303),\n",
       " 'Q224': (0.004668153052899761, 0.5225672418924758),\n",
       " 'Q225': (0.00503706510782168, 0.48548343756081125),\n",
       " 'Q226': (0.005919866798696984, 0.5033235298971095),\n",
       " 'Q227': (0.00909576425692185, 0.49218217750655535),\n",
       " 'Q228': (0.006185690164665377, 0.49364135981020035),\n",
       " 'Q229': (0.006061956725585646, 0.4888881590222014),\n",
       " 'Q230': (-0.0005469300689016259, 0.5019299813437313),\n",
       " 'Q231': (-0.003602003962671305, 0.5046742371890688),\n",
       " 'Q232': (-0.001592644967415956, 0.49681749719175106),\n",
       " 'Q233': (-0.004183930442817236, 0.5027840744647558),\n",
       " 'Q234': (-0.011807086956626371, 0.49258359079899633),\n",
       " 'Q235': (0.010713681833445407, 0.49867369950706636),\n",
       " 'Q236': (-0.00253855408451282, 0.5000902284852995),\n",
       " 'Q237': (-0.00621999157493283, 0.501781595469357),\n",
       " 'Q238': (-0.004247872312858224, 0.49178714880064794),\n",
       " 'Q239': (-0.008410147798897169, 0.5096409629174301),\n",
       " 'Q240': (-0.005436466658736672, 0.495861440890733),\n",
       " 'Q241': (-0.0015287687825541153, 0.5063116566980308),\n",
       " 'Q242': (0.0006358795051599131, 0.5043810629843807),\n",
       " 'Q243': (0.003199771571677841, 0.4946876830252545),\n",
       " 'Q244': (0.0012020429350086057, 0.5112159522573494),\n",
       " 'Q245': (0.0020616822306668368, 0.5049990294391825),\n",
       " 'Q246': (0.005949660165333665, 0.4944463004930998),\n",
       " 'Q247': (-0.005749263189214869, 0.4987656670466982),\n",
       " 'Q248': (-0.0017415974179447234, 0.5059357514042254),\n",
       " 'Q249': (-0.004596994705510744, 0.5052478680622594),\n",
       " 'Q250': (-0.0014188320138968163, 0.513425987278758),\n",
       " 'Q251': (-0.011058359258454768, 0.5061424970259123),\n",
       " 'Q252': (0.0023399240353474296, 0.5119960890685146),\n",
       " 'Q253': (0.0001939830543049278, 0.49160118047117796),\n",
       " 'Q254': (-0.002476819140289297, 0.5103553531446937),\n",
       " 'Q255': (-0.006232668198580879, 0.5194868039918142),\n",
       " 'Q256': (-0.0018795494945656795, 0.5059836455423912),\n",
       " 'Q257': (-0.0034932922433942456, 0.48836327685304204),\n",
       " 'Q258': (-0.001541138894329216, 0.4896677852465666),\n",
       " 'Q259': (-0.0025066620185704835, 0.5054497691556764),\n",
       " 'Q260': (0.00011787806665868505, 0.5094446103473156),\n",
       " 'Q261': (-0.0020971488881676246, 0.4912285489766422),\n",
       " 'Q262': (0.005589709153124959, 0.5010503516151728),\n",
       " 'Q263': (0.006389596591001297, 0.49113955082595095),\n",
       " 'Q264': (8.475968723146021e-05, 0.49940546961643567),\n",
       " 'Q265': (0.00040651972643015766, 0.4813113256777932),\n",
       " 'Q266': (0.008997920931672159, 0.5060226952950881),\n",
       " 'Q267': (0.002897309010626169, 0.5069915246671982),\n",
       " 'Q268': (0.000820364739516752, 0.509403413843097),\n",
       " 'Q269': (0.0076839490872896744, 0.5019995018709247),\n",
       " 'Q270': (0.00393251329578179, 0.5087942233820016),\n",
       " 'Q271': (0.00144642288228333, 0.4921474807392738),\n",
       " 'Q272': (0.0035089161462251825, 0.5281605106107988),\n",
       " 'Q273': (0.0033524409135798684, 0.49291851328096215),\n",
       " 'Q274': (-0.003305634007826223, 0.4974908287586504),\n",
       " 'Q275': (0.010620212125626995, 0.49410458358376613),\n",
       " 'Q276': (0.009857238243011445, 0.5190951967179168),\n",
       " 'Q277': (0.004860059923262891, 0.5078513959179946),\n",
       " 'Q278': (-0.004969901701742838, 0.5120314184888004),\n",
       " 'Q279': (0.014053229999906752, 0.5132381657231326),\n",
       " 'Q280': (-0.0015508041441456575, 0.4990559066223052),\n",
       " 'Q281': (0.008383836240123652, 0.4817632222752907),\n",
       " 'Q282': (0.008140799951911642, 0.5135158946403392),\n",
       " 'Q283': (0.006601925357107818, 0.520344780119497),\n",
       " 'Q284': (-0.0024107367254780337, 0.4943881283559991),\n",
       " 'Q285': (-0.011265456304028245, 0.5005614335093103),\n",
       " 'Q286': (-0.012478204765394879, 0.5046943552616464),\n",
       " 'Q287': (-0.00035315331904732885, 0.4953978438862833),\n",
       " 'Q288': (0.0075525741565543696, 0.5021689992381662),\n",
       " 'Q289': (0.00391922318137097, 0.4879278136971885),\n",
       " 'Q290': (0.001499614046743933, 0.49894226645364786),\n",
       " 'Q291': (-0.0006768406882808859, 0.5129050025063009),\n",
       " 'Q292': (0.0022054310570986347, 0.5099938632639016),\n",
       " 'Q293': (-0.00014501145789927206, 0.5029010826777798),\n",
       " 'Q294': (0.0036409415036579252, 0.5110708625546911),\n",
       " 'Q295': (0.004201248140418656, 0.49260423347146304),\n",
       " 'Q296': (-0.0022867030233466165, 0.4982147862343753),\n",
       " 'Q297': (-0.00014491139356736694, 0.49592875548056375),\n",
       " 'Q298': (-0.00036825424804514474, 0.5054439250894328),\n",
       " 'Q299': (-0.006580766061767619, 0.49012923427892885),\n",
       " 'Q300': (-0.008273207356184968, 0.4994286102223138),\n",
       " 'Q301': (0.0030981637343522276, 0.5125479844408152),\n",
       " 'Q302': (-0.005166369210050762, 0.511219387378891),\n",
       " 'Q303': (0.0051832627281677155, 0.5128134316793913),\n",
       " 'Q304': (-0.005492641166418536, 0.5156296823107817),\n",
       " 'Q305': (0.0027818334826419586, 0.5047714317496803),\n",
       " 'Q306': (0.006383914820854593, 0.5066000184730517),\n",
       " 'Q307': (0.0045143883856821375, 0.5058989631458385),\n",
       " 'Q308': (-0.008609102340550453, 0.5091265749851674),\n",
       " 'Q309': (-0.007778023298655131, 0.4994754913181249),\n",
       " 'Q310': (0.00016448330393443444, 0.4979963391096595),\n",
       " 'Q311': (0.0004414582287836968, 0.4921704770885346),\n",
       " 'Q312': (0.008310887278041303, 0.4921928422959899),\n",
       " 'Q313': (-0.011658100749691029, 0.5141638868268859),\n",
       " 'Q314': (-0.0033840927778613352, 0.4871740077747626),\n",
       " 'Q315': (0.006590481521101774, 0.5167565058323446),\n",
       " 'Q316': (-0.007625240088826274, 0.5050888865725643),\n",
       " 'Q317': (0.0009684987052435845, 0.5070929461389384),\n",
       " 'Q318': (0.0018068888268532586, 0.5011165765619372),\n",
       " 'Q319': (0.0016883070807299726, 0.4878598928064539),\n",
       " 'Q320': (-0.010099202737513321, 0.49691316295696913),\n",
       " 'Q321': (0.009113165588522612, 0.5212714748000874),\n",
       " 'Q322': (-0.002222452819135784, 0.5185861017812394),\n",
       " 'Q323': (0.0055658781285805444, 0.5089378568975941),\n",
       " 'Q324': (0.005297514937646794, 0.48730026624505524),\n",
       " 'Q325': (-0.008719165379790646, 0.5057780365074569),\n",
       " 'Q326': (0.0066150680285736235, 0.5169148301617236),\n",
       " 'Q327': (0.006544607944618305, 0.516971456694313),\n",
       " 'Q328': (-0.0015381998649958764, 0.49245653877684564),\n",
       " 'Q329': (-0.0017621920522827308, 0.5073869260137507),\n",
       " 'Q330': (-0.0002349273100353857, 0.49488386184172883),\n",
       " 'Q331': (-0.0034043912134236304, 0.4888757585251465),\n",
       " 'Q332': (-0.013168577160838564, 0.4991600302206561),\n",
       " 'Q333': (0.0039410856996515255, 0.5148825691673398),\n",
       " 'Q334': (0.004433592636007895, 0.4865333753146319),\n",
       " 'Q335': (0.0028178612484890224, 0.4996364377101648)}"
      ]
     },
     "execution_count": 117,
     "metadata": {},
     "output_type": "execute_result"
    }
   ],
   "source": [
    "q_corr"
   ]
  },
  {
   "cell_type": "code",
   "execution_count": null,
   "metadata": {},
   "outputs": [],
   "source": []
  }
 ],
 "metadata": {
  "kernelspec": {
   "display_name": "Python 3",
   "language": "python",
   "name": "python3"
  },
  "language_info": {
   "codemirror_mode": {
    "name": "ipython",
    "version": 3
   },
   "file_extension": ".py",
   "mimetype": "text/x-python",
   "name": "python",
   "nbconvert_exporter": "python",
   "pygments_lexer": "ipython3",
   "version": "3.7.4"
  }
 },
 "nbformat": 4,
 "nbformat_minor": 4
}
