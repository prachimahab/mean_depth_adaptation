{
 "cells": [
  {
   "cell_type": "code",
   "execution_count": 101,
   "metadata": {},
   "outputs": [],
   "source": [
    "import pandas as pd\n",
    "import numpy as np \n",
    "import os \n",
    "import scipy \n",
    "from scipy import stats\n",
    "from scipy.stats import spearmanr\n"
   ]
  },
  {
   "cell_type": "code",
   "execution_count": 102,
   "metadata": {},
   "outputs": [],
   "source": [
    "path = '/Users/prachimahableshwarkar/Documents/GW/MeanDepth_Adaptation/mean_depth_adaptation/mean_depth_ranking/cleaned_data.csv'\n",
    "\n",
    "df = pd.read_csv(path)"
   ]
  },
  {
   "cell_type": "code",
   "execution_count": 103,
   "metadata": {},
   "outputs": [
    {
     "data": {
      "text/plain": [
       "(18, 'R_3rUuplGsyBnH5vp')"
      ]
     },
     "execution_count": 103,
     "metadata": {},
     "output_type": "execute_result"
    }
   ],
   "source": [
    "participant_ids = [rid for rid in df.ResponseId.unique() if 'R_' in rid]\n",
    "len(participant_ids), participant_ids[0]"
   ]
  },
  {
   "cell_type": "code",
   "execution_count": 104,
   "metadata": {},
   "outputs": [
    {
     "data": {
      "text/plain": [
       "10"
      ]
     },
     "execution_count": 104,
     "metadata": {},
     "output_type": "execute_result"
    }
   ],
   "source": [
    "catch = {'Q336': 1, 'Q337': 1, 'Q338': 2, 'Q339': 2, 'Q340': 3, 'Q341': 3, 'Q342': 4, 'Q343': 4, 'Q344': 5, 'Q345': 5}\n",
    "\n",
    "catch_questions = list(catch.keys())\n",
    "len(catch_questions)"
   ]
  },
  {
   "cell_type": "code",
   "execution_count": 105,
   "metadata": {},
   "outputs": [],
   "source": [
    "# Q16 Q335\n",
    "questions = [col for col in df.columns.unique() if 'Q' in col and 16 <= int(col[1:]) <= 335]"
   ]
  },
  {
   "cell_type": "code",
   "execution_count": 106,
   "metadata": {},
   "outputs": [],
   "source": [
    "data = {}\n",
    "for q in questions:\n",
    "    valid_ranks = [r for r in list(df[q][2:]) if type(r)==str]\n",
    "    q_ranks = list(map(int, valid_ranks))\n",
    "    data[q] = [q_ranks, np.mean(q_ranks), np.std(q_ranks)]\n"
   ]
  },
  {
   "cell_type": "markdown",
   "metadata": {},
   "source": [
    "https://statisticsbyjim.com/basics/spearmans-correlation/"
   ]
  },
  {
   "cell_type": "markdown",
   "metadata": {},
   "source": [
    "## Take Random splits of the data and calculate the average spearman r correlation "
   ]
  },
  {
   "cell_type": "code",
   "execution_count": 99,
   "metadata": {},
   "outputs": [
    {
     "name": "stdout",
     "output_type": "stream",
     "text": [
      "5\n",
      "Average Spearman's r correlation coefficient: 0.15\n"
     ]
    }
   ],
   "source": [
    "data = np.array([1, 2, 3, 4, 5, 6, 7, 8, 9, 10])\n",
    "\n",
    "# Define the number of splits and the split size\n",
    "n_splits = 2\n",
    "split_size = data.shape[0] // n_splits\n",
    "print(split_size)\n",
    "\n",
    "corr_coeffs = []\n",
    "\n",
    "# Loop over the splits\n",
    "for i in range(n_splits):\n",
    "    # Generate a random permutation of the indices\n",
    "    indices = np.random.permutation(data.shape[0])\n",
    "\n",
    "    # Split the data into two parts\n",
    "    split1 = data[indices[:split_size]]\n",
    "    split2 = data[indices[split_size:]]\n",
    "\n",
    "    # Calculate the Spearman's r correlation coefficient\n",
    "    corr, _ = spearmanr(split1, split2)\n",
    "\n",
    "    corr_coeffs.append(corr)\n",
    "\n",
    "# Calculate the average correlation coefficient\n",
    "avg_corr = np.mean(corr_coeffs)\n",
    "\n",
    "# Print the result\n",
    "print(\"Average Spearman's r correlation coefficient:\", avg_corr)\n"
   ]
  },
  {
   "cell_type": "code",
   "execution_count": null,
   "metadata": {},
   "outputs": [],
   "source": []
  }
 ],
 "metadata": {
  "kernelspec": {
   "display_name": "Python 3",
   "language": "python",
   "name": "python3"
  },
  "language_info": {
   "codemirror_mode": {
    "name": "ipython",
    "version": 3
   },
   "file_extension": ".py",
   "mimetype": "text/x-python",
   "name": "python",
   "nbconvert_exporter": "python",
   "pygments_lexer": "ipython3",
   "version": "3.7.5"
  }
 },
 "nbformat": 4,
 "nbformat_minor": 4
}
