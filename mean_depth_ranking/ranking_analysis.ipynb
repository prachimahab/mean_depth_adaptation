{
 "cells": [
  {
   "cell_type": "markdown",
   "metadata": {},
   "source": [
    "# Mean Depth Ranking Analysis"
   ]
  },
  {
   "cell_type": "code",
   "execution_count": 2,
   "metadata": {},
   "outputs": [],
   "source": [
    "import pandas as pd\n",
    "import numpy as np \n",
    "import os \n",
    "import scipy \n",
    "from scipy import stats\n",
    "from scipy.stats import spearmanr\n",
    "import matplotlib.pyplot as plt"
   ]
  },
  {
   "cell_type": "markdown",
   "metadata": {},
   "source": [
    "Experiment link: https://columbiangwu.co1.qualtrics.com/jfe/form/SV_8jL1tZQEdAg4npI"
   ]
  },
  {
   "cell_type": "code",
   "execution_count": 3,
   "metadata": {},
   "outputs": [],
   "source": [
    "path = 'cleaned_data.csv'\n",
    "\n",
    "df = pd.read_csv(path)"
   ]
  },
  {
   "cell_type": "code",
   "execution_count": null,
   "metadata": {},
   "outputs": [],
   "source": []
  },
  {
   "cell_type": "code",
   "execution_count": 4,
   "metadata": {},
   "outputs": [
    {
     "data": {
      "text/plain": [
       "(49, 'R_3rUuplGsyBnH5vp')"
      ]
     },
     "execution_count": 4,
     "metadata": {},
     "output_type": "execute_result"
    }
   ],
   "source": [
    "participant_ids = [rid for rid in df.ResponseId.unique() if 'R_' in rid]\n",
    "len(participant_ids), participant_ids[0]"
   ]
  },
  {
   "cell_type": "code",
   "execution_count": 5,
   "metadata": {},
   "outputs": [
    {
     "data": {
      "text/plain": [
       "10"
      ]
     },
     "execution_count": 5,
     "metadata": {},
     "output_type": "execute_result"
    }
   ],
   "source": [
    "catch = {'Q336': 1, 'Q337': 1, 'Q338': 2, 'Q339': 2, 'Q340': 3, 'Q341': 3, 'Q342': 4, 'Q343': 4, 'Q344': 5, 'Q345': 5}\n",
    "\n",
    "catch_questions = list(catch.keys())\n",
    "len(catch_questions)"
   ]
  },
  {
   "cell_type": "code",
   "execution_count": 6,
   "metadata": {},
   "outputs": [],
   "source": [
    "# Q16 Q335\n",
    "questions = [col for col in df.columns.unique() if 'Q' in col and 16 <= int(col[1:]) <= 335]"
   ]
  },
  {
   "cell_type": "code",
   "execution_count": 7,
   "metadata": {},
   "outputs": [],
   "source": [
    "q_data = {}\n",
    "for q in questions:\n",
    "    valid_ranks = [r for r in list(df[q][2:]) if type(r)==str]\n",
    "    q_ranks = list(map(int, valid_ranks))\n",
    "    q_data[q] = [q_ranks, np.mean(q_ranks), np.std(q_ranks)]\n"
   ]
  },
  {
   "cell_type": "code",
   "execution_count": null,
   "metadata": {},
   "outputs": [],
   "source": []
  },
  {
   "cell_type": "code",
   "execution_count": 8,
   "metadata": {},
   "outputs": [],
   "source": [
    "means = [q_data[key][1] for key in q_data]\n",
    "stds = [q_data[key][2] for key in q_data]\n",
    "\n",
    "all_ranks = []\n",
    "for key in q_data:\n",
    "    all_ranks += q_data[key][0]"
   ]
  },
  {
   "cell_type": "code",
   "execution_count": 9,
   "metadata": {},
   "outputs": [
    {
     "data": {
      "image/png": "[encoded data removed]",
      "text/plain": [
       "<Figure size 720x720 with 1 Axes>"
      ]
     },
     "metadata": {
      "needs_background": "light"
     },
     "output_type": "display_data"
    }
   ],
   "source": [
    "fig, ax = plt.subplots(figsize=[10,10])\n",
    "ax.spines['right'].set_visible(False)\n",
    "ax.spines['top'].set_visible(False)\n",
    "\n",
    "plt.title('Distribution of All Rankings', fontsize=18)    \n",
    "plt.hist(all_ranks, color='black')\n",
    "plt.xlabel('Rank', fontsize=15)\n",
    "plt.ylabel('Count', fontsize=15)\n",
    "\n",
    "plt.xticks([1, 2, 3, 4, 5], fontsize=15)\n",
    "plt.yticks(fontsize=15)\n",
    "plt.show();"
   ]
  },
  {
   "cell_type": "code",
   "execution_count": 10,
   "metadata": {},
   "outputs": [
    {
     "data": {
      "image/png": "[encoded data removed]",
      "text/plain": [
       "<Figure size 720x720 with 1 Axes>"
      ]
     },
     "metadata": {
      "needs_background": "light"
     },
     "output_type": "display_data"
    }
   ],
   "source": [
    "fig, ax = plt.subplots(figsize=[10,10])\n",
    "ax.spines['right'].set_visible(False)\n",
    "ax.spines['top'].set_visible(False)\n",
    "\n",
    "plt.title('Distribution of Average Ranking per Image', fontsize=18)\n",
    "plt.hist(means, color='maroon')\n",
    "plt.xticks(fontsize=15)\n",
    "plt.yticks(fontsize=15)\n",
    "plt.show();"
   ]
  },
  {
   "cell_type": "code",
   "execution_count": null,
   "metadata": {},
   "outputs": [],
   "source": []
  },
  {
   "cell_type": "markdown",
   "metadata": {},
   "source": [
    "https://statisticsbyjim.com/basics/spearmans-correlation/"
   ]
  },
  {
   "cell_type": "markdown",
   "metadata": {},
   "source": [
    "## Take Random splits of the data and calculate the average spearman r correlation "
   ]
  },
  {
   "cell_type": "code",
   "execution_count": 11,
   "metadata": {},
   "outputs": [
    {
     "data": {
      "text/plain": [
       "48"
      ]
     },
     "execution_count": 11,
     "metadata": {},
     "output_type": "execute_result"
    }
   ],
   "source": [
    "len(q_data['Q16'][0][:-1])"
   ]
  },
  {
   "cell_type": "code",
   "execution_count": 15,
   "metadata": {},
   "outputs": [
    {
     "data": {
      "text/plain": [
       "SpearmanrResult(correlation=-0.1391216687280505, pvalue=0.7926638356375505)"
      ]
     },
     "execution_count": 15,
     "metadata": {},
     "output_type": "execute_result"
    }
   ],
   "source": [
    "d0 = [1, 2, 5, 3, 2, 2]\n",
    "d1 = [2, 4, 2, 2, 2, 2]\n",
    "spearmanr(d0, d1)"
   ]
  },
  {
   "cell_type": "code",
   "execution_count": 16,
   "metadata": {},
   "outputs": [],
   "source": [
    "def split_spearman_corr(input_data, n_splits):\n",
    "    \n",
    "    if len(input_data)%2 != 0:\n",
    "        data = input_data[:-1]\n",
    "    else:\n",
    "        data = input_data \n",
    "    \n",
    "    \n",
    "    # Define split size\n",
    "    split_size = data.shape[0] // 2\n",
    "#     print(split_size)\n",
    "\n",
    "    corr_coeffs = []\n",
    "    pvals = []\n",
    "\n",
    "    # Loop over the splits\n",
    "    for i in range(n_splits):\n",
    "        # Generate a random permutation of the indices\n",
    "        indices = np.random.permutation(data.shape[0])\n",
    "\n",
    "        # Split the data into two parts\n",
    "        split1 = data[indices[:split_size]]\n",
    "        split2 = data[indices[split_size:]]\n",
    "\n",
    "        # Calculate the Spearman's r correlation coefficient\n",
    "        corr, _ = spearmanr(split1, split2)\n",
    "\n",
    "        corr_coeffs.append(corr)\n",
    "        pvals.append(_)\n",
    "\n",
    "    # Calculate the average correlation coefficient\n",
    "    avg_corr = np.mean(corr_coeffs)\n",
    "    \n",
    "    # Print the result\n",
    "#     print(\"Average Spearman's r correlation coefficient:\", avg_corr)\n",
    "#     print(np.mean(pvals))\n",
    "    \n",
    "    return avg_corr, np.mean(pvals)\n",
    "\n",
    "    "
   ]
  },
  {
   "cell_type": "code",
   "execution_count": 31,
   "metadata": {},
   "outputs": [],
   "source": [
    "n = 10\n",
    "\n",
    "q_corr = {}\n",
    "for key in q_data:\n",
    "    qd = np.array(q_data[key][0])\n",
    "#     print(key)\n",
    "    q_corr[key] = split_spearman_corr(qd, n)\n",
    "    "
   ]
  },
  {
   "cell_type": "code",
   "execution_count": 32,
   "metadata": {},
   "outputs": [],
   "source": [
    "def get_mode(input_data):\n",
    "    \n",
    "    return max(set(input_data), key=input_data.count)\n",
    "\n",
    "\n",
    "q_modes = {}\n",
    "for key in q_data:\n",
    "    qd = q_data[key][0]\n",
    "    q_modes[key] = get_mode(qd)"
   ]
  },
  {
   "cell_type": "code",
   "execution_count": 36,
   "metadata": {},
   "outputs": [
    {
     "data": {
      "image/png": "[encoded data removed]",
      "text/plain": [
       "<Figure size 576x576 with 1 Axes>"
      ]
     },
     "metadata": {
      "needs_background": "light"
     },
     "output_type": "display_data"
    }
   ],
   "source": [
    "fig, ax = plt.subplots(figsize=[8,8])\n",
    "ax.spines['right'].set_visible(False)\n",
    "ax.spines['top'].set_visible(False)\n",
    "\n",
    "plt.title('Distribution of Mode Ranking per Image', fontsize=18)\n",
    "plt.hist([q_modes[key] for key in q_modes], color='pink')\n",
    "plt.xticks([1, 2, 3, 4, 5], fontsize=15)\n",
    "plt.yticks(fontsize=15)\n",
    "plt.show();"
   ]
  },
  {
   "cell_type": "code",
   "execution_count": null,
   "metadata": {},
   "outputs": [],
   "source": []
  },
  {
   "cell_type": "code",
   "execution_count": null,
   "metadata": {},
   "outputs": [],
   "source": []
  }
 ],
 "metadata": {
  "kernelspec": {
   "display_name": "Python 3",
   "language": "python",
   "name": "python3"
  },
  "language_info": {
   "codemirror_mode": {
    "name": "ipython",
    "version": 3
   },
   "file_extension": ".py",
   "mimetype": "text/x-python",
   "name": "python",
   "nbconvert_exporter": "python",
   "pygments_lexer": "ipython3",
   "version": "3.7.6"
  }
 },
 "nbformat": 4,
 "nbformat_minor": 4
}
