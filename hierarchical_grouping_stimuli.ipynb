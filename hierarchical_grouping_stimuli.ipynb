{
 "cells": [
  {
   "cell_type": "markdown",
   "metadata": {},
   "source": [
    "# SUN database image categories\n",
    "\n",
    "- The following image folders are all indoors\n",
    "- Some indoor folders were not included since they had too many images with poor image characteristics \n",
    "- Stimuli Selection Guide: https://docs.google.com/document/d/1uwWAMf9fNJgzQjiYZTVynn7WfSLvxdZzT7V5uWz-nuU/edit#heading=h.l11npecuj44t"
   ]
  },
  {
   "cell_type": "code",
   "execution_count": 89,
   "metadata": {},
   "outputs": [
    {
     "name": "stdout",
     "output_type": "stream",
     "text": [
      "54\n"
     ]
    }
   ],
   "source": [
    "folders = [\"a/archive\", \"a/art_gallery\",\"a/attic\", \"a/auditorium\", \"b/ballroom\", \"b/banquet_hall\", \"b/bar\", \"b/bathroom\"\n",
    "           ,\"b/bedroom\", \"b/bistro/indoor\",\"b/bookstore\", \"c/cafeteria\",\"c/childs_room\",\"c/classroom\",\"c/closet\"\n",
    "           ,\"c/coffee_shop\",\"c/computer_room\",\"c/conference_room\",\"c/courtroom\",\"d/dining_room\",\"d/dorm_room\",\"g/game_room\"\n",
    "           ,\"g/gymnasium/indoor\",\"h/home_office\",\"h/hotel_room\",\"j/jewelry_shop\",\"k/kindergarden_classroom\",\"k/kitchen\"\n",
    "           ,\"k/kitchenette\",\"l/laundromat\",\"l/lecture_room\",\"l/library/indoor\",\"l/living_room\",\"l/locker_room\",\"m/music_store\"\n",
    "           ,\"n/nursery\",\"o/office\",\"p/pantry\",\"p/pharmacy\",\"p/playroom\",\"r/reception\",\"r/recreation_room\",\"r/restaurant\"\n",
    "           ,\"s/shoe_shop\",\"s/shopping_mall/indoor\",\"s/staircase\",\"s/supermarket\",\"s/sushi_bar\",\"t/toyshop\",\"u/utility_room\"\n",
    "           ,\"w/waiting_room\",\"w/wet_bar\",\"w/wine_cellar/bottle_storage\",\"y/youth_hostel\"]\n",
    "\n",
    "print(len(folders))"
   ]
  },
  {
   "cell_type": "code",
   "execution_count": 13,
   "metadata": {},
   "outputs": [
    {
     "data": {
      "text/plain": [
       "2793"
      ]
     },
     "execution_count": 13,
     "metadata": {},
     "output_type": "execute_result"
    }
   ],
   "source": [
    "import os \n",
    "from PIL import Image \n",
    "import operator\n",
    "\n",
    "def imageSize(rootdir, folders):\n",
    "    size_dict = {}\n",
    "    for folder in folders:\n",
    "        folderpath = os.path.join(rootdir, folder)\n",
    "        for image in os.listdir(folderpath):\n",
    "            imagepath = os.path.join(rootdir, folder, image)\n",
    "            PIL_image = Image.open(imagepath)\n",
    "            width, height = PIL_image.size \n",
    "            imageSize = tuple([width, height])\n",
    "            if imageSize not in size_dict:\n",
    "                size_dict[imageSize] = 1\n",
    "            else:\n",
    "                size_dict[imageSize] += 1\n",
    "    \n",
    "    return size_dict\n",
    "        \n",
    "    \n",
    "    \n",
    "path = \"/Users/prachi/Documents/SUN397\"\n",
    "SUN_size = imageSize(path, folders)   \n",
    "\n",
    "max(SUN_size.items(), key=operator.itemgetter(1))[0]\n",
    "\n",
    "SUN_size[(256, 256)]\n",
    "\n"
   ]
  },
  {
   "cell_type": "code",
   "execution_count": 1,
   "metadata": {},
   "outputs": [],
   "source": [
    "def imageSizeCategoryDistribution(rootdir, folders, width, height):\n",
    "    \"\"\"\n",
    "    Find out how many images in each folder are greater than are equal to dimensions passed through\n",
    "    \"\"\"\n",
    "    count_folders = []\n",
    "    for folder in folders:\n",
    "        count = 0\n",
    "        folderpath = os.path.join(rootdir, folder)\n",
    "        for image in os.listdir(folderpath):\n",
    "            imagepath = os.path.join(rootdir, folder, image)\n",
    "            PIL_image = Image.open(imagepath)\n",
    "            w, h = PIL_image.size \n",
    "            if w >= width:\n",
    "                if h >= height:\n",
    "                    count+= 1\n",
    "        count_folders.append(count)\n",
    "    \n",
    "    return count_folders\n",
    "        \n",
    "path = \"/Users/prachi/Documents/SUN397\"\n",
    "        \n",
    "imageSizeCategoryDistribution(path, folders, 256, 256)\n",
    "\n",
    "# Conclusion: Too many folders have NO images that are (256, 256) "
   ]
  },
  {
   "cell_type": "code",
   "execution_count": 78,
   "metadata": {},
   "outputs": [],
   "source": [
    "p = '/Users/prachi/Desktop/sun_afwmvcfqgvxaiubd.jpg'\n",
    "\n",
    "\n",
    "def resizeImage(imagepath):\n",
    "    split_path = imagepath.split('/')\n",
    "    file = split_path[-1]\n",
    "    split_file = file.split('.')\n",
    "    image = split_file[0]\n",
    "    \n",
    "    foo = Image.open(imagepath)\n",
    "    foo = foo.resize((730,500),Image.ANTIALIAS)\n",
    "    foo.save(\"/Users/prachi/Desktop/\" + image + \"_scaled.jpg\",optimize=True,quality=95)\n",
    "     # The saved downsized image size is 22.9kb\n",
    "        \n",
    "resizeImage(p)"
   ]
  },
  {
   "cell_type": "markdown",
   "metadata": {},
   "source": [
    "Testing Resizing images:\n",
    "- Scale up\n",
    "- Scale down "
   ]
  },
  {
   "cell_type": "markdown",
   "metadata": {},
   "source": [
    "### Check how many SUN images have an Aspect Ratio (width : height) of 730 : 530 "
   ]
  },
  {
   "cell_type": "code",
   "execution_count": 87,
   "metadata": {},
   "outputs": [
    {
     "data": {
      "text/plain": [
       "(3061, 18871)"
      ]
     },
     "execution_count": 87,
     "metadata": {},
     "output_type": "execute_result"
    }
   ],
   "source": [
    "from PIL import Image \n",
    "import os\n",
    "\n",
    "def getAspectRatio(imagepath):\n",
    "    \"\"\"\n",
    "    Returns the aspect ratio (width/height) of the image \n",
    "    \"\"\"\n",
    "    try:\n",
    "        im = Image.open(imagepath)\n",
    "    except ValueError as err:\n",
    "        print(err)\n",
    "        print(\"Error on image: \", img)\n",
    "        \n",
    "    width, height = im.size\n",
    "    \n",
    "#     aspect_ratio = round(width/height, 1) # rounds to the nearest tenth\n",
    "    aspect_ratio = width/height\n",
    "\n",
    "    \n",
    "    return aspect_ratio, width, height \n",
    "\n",
    "\n",
    "def AspectRatioDistribution(rootdir, folders):\n",
    "    \"\"\"\n",
    "    Check how many images fit within a certain criterion for aspect ratio\n",
    "    \"\"\"\n",
    "    count = 0\n",
    "    count_not = 0\n",
    "    count_height_530 = 0\n",
    "    for folder in folders:\n",
    "        folderpath = os.path.join(rootdir, folder)\n",
    "        for image in os.listdir(folderpath):\n",
    "            imagepath = os.path.join(rootdir, folder, image)\n",
    "            aspect_ratio, width, height = getAspectRatio(imagepath)\n",
    "            if (730/530) <= aspect_ratio <= 1.5:\n",
    "                count += 1\n",
    "            else:\n",
    "                count_not += 1\n",
    "            if height == 530:\n",
    "                count_height_530 +=1 \n",
    "#                 print(imagepath)\n",
    "    return count, count_not\n",
    "\n",
    "path = \"/Users/prachi/Documents/MeanDepth_SUN\"\n",
    "\n",
    "AspectRatioDistribution(path, folders)"
   ]
  },
  {
   "cell_type": "code",
   "execution_count": null,
   "metadata": {},
   "outputs": [],
   "source": []
  },
  {
   "cell_type": "code",
   "execution_count": 94,
   "metadata": {},
   "outputs": [],
   "source": [
    "def filterbyAspectRatio(rootdir, folders):\n",
    "    \"\"\"\n",
    "    Delete images that have an aspect ratio of of range: \n",
    "    1.37-1.6 inclusive \n",
    "    \n",
    "    \"\"\"\n",
    "    paths_keep = []\n",
    "    for folder in folders:\n",
    "        folderpath = os.path.join(rootdir, folder)\n",
    "        for image in os.listdir(folderpath):\n",
    "            imagepath = os.path.join(rootdir, folder, image)\n",
    "            aspect_ratio, width, height = getAspectRatio(imagepath)\n",
    "            if (730/530) <= aspect_ratio <= 1.6:\n",
    "                paths_keep.append(imagepath)\n",
    "            else:\n",
    "                os.remove(imagepath)\n",
    "    \n",
    "    return paths_keep, len(paths_keep)"
   ]
  },
  {
   "cell_type": "code",
   "execution_count": 95,
   "metadata": {},
   "outputs": [],
   "source": [
    "path = \"/Users/prachi/Documents/MeanDepth_SUN\"\n",
    "\n",
    "paths_filtered, imagecount = filterbyAspectRatio(path, folders)"
   ]
  },
  {
   "cell_type": "code",
   "execution_count": 104,
   "metadata": {},
   "outputs": [
    {
     "name": "stdout",
     "output_type": "stream",
     "text": [
      "Failed at:  /Users/prachi/Documents/MeanDepth_SUN/c/closet/sun_absahzamlrylkxyn.jpg\n",
      "Failed at:  /Users/prachi/Documents/MeanDepth_SUN/c/conference_room/sun_aesylgnpqdbvuxoq.jpg\n",
      "Failed at:  /Users/prachi/Documents/MeanDepth_SUN/g/game_room/sun_aopfaqlllpvzhrak.jpg\n",
      "Failed at:  /Users/prachi/Documents/MeanDepth_SUN/g/gymnasium/indoor/sun_agaaettuwibuogtc.jpg\n",
      "Failed at:  /Users/prachi/Documents/MeanDepth_SUN/g/gymnasium/indoor/sun_aiivklwtzhqcwvfo.jpg\n",
      "Failed at:  /Users/prachi/Documents/MeanDepth_SUN/s/shopping_mall/indoor/sun_avwzjsijaxnwuzjx.jpg\n",
      "Failed at:  /Users/prachi/Documents/MeanDepth_SUN/w/waiting_room/sun_aicytusmthfvqcwc.jpg\n",
      "Failed at:  /Users/prachi/Documents/MeanDepth_SUN/y/youth_hostel/.DS_Store\n"
     ]
    }
   ],
   "source": [
    "def resizeImage(imagepath):\n",
    "    \"\"\"\n",
    "    Scale just the height dimension to 530, and then use that proportional change in height to scale the width dimension accordingly. \n",
    "    This way the aspect ratio from the original image to the scaled image is the same. \n",
    "    \"\"\"\n",
    "    try:\n",
    "        im = Image.open(imagepath)\n",
    "    except ValueError as err:\n",
    "        print(err)\n",
    "        print(\"Error on image: \", img)\n",
    "        \n",
    "    width, height = im.size\n",
    "    aspect_ratio = width/height\n",
    "    \n",
    "    # the new width is calculated such that the aspect ratio does not change \n",
    "    # new height is set to 530, so the width is proportionally increased the \n",
    "      # same amount the height was \n",
    "    new_width = int(aspect_ratio * 530)\n",
    "\n",
    "    foo = Image.open(imagepath)\n",
    "    foo = foo.resize((new_width,530),Image.ANTIALIAS)\n",
    "    foo.save(imagepath ,optimize=True,quality=95)\n",
    "     # The saved downsized image size is 22.9kb\n",
    "\n",
    "resizeImage(p)\n",
    "\n",
    "\n",
    "def resizeDatabase(rootdir, folders):\n",
    "    \"\"\"\n",
    "    Run resizeImage on all images\n",
    "    \"\"\"\n",
    "    for folder in folders:\n",
    "        folderpath = os.path.join(rootdir, folder)\n",
    "        for image in os.listdir(folderpath):\n",
    "            imagepath = os.path.join(rootdir, folder, image)\n",
    "            try:\n",
    "                resizeImage(imagepath)\n",
    "            except:\n",
    "                print(\"Failed at: \", imagepath)\n",
    "    \n",
    "path = '/Users/prachi/Documents/MeanDepth_SUN'  \n",
    "\n",
    "resizeDatabase(path, folders)"
   ]
  },
  {
   "cell_type": "code",
   "execution_count": null,
   "metadata": {},
   "outputs": [],
   "source": []
  },
  {
   "cell_type": "code",
   "execution_count": null,
   "metadata": {},
   "outputs": [],
   "source": []
  },
  {
   "cell_type": "code",
   "execution_count": null,
   "metadata": {},
   "outputs": [],
   "source": []
  },
  {
   "cell_type": "code",
   "execution_count": null,
   "metadata": {},
   "outputs": [],
   "source": []
  }
 ],
 "metadata": {
  "kernelspec": {
   "display_name": "Python 3",
   "language": "python",
   "name": "python3"
  },
  "language_info": {
   "codemirror_mode": {
    "name": "ipython",
    "version": 3
   },
   "file_extension": ".py",
   "mimetype": "text/x-python",
   "name": "python",
   "nbconvert_exporter": "python",
   "pygments_lexer": "ipython3",
   "version": "3.6.1"
  }
 },
 "nbformat": 4,
 "nbformat_minor": 4
}
