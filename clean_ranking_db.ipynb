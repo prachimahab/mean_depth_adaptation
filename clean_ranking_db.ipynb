{
 "cells": [
  {
   "cell_type": "markdown",
   "metadata": {},
   "source": [
    "# Remove 'bad' images from database for mean depth ranking task"
   ]
  },
  {
   "cell_type": "code",
   "execution_count": 1,
   "metadata": {},
   "outputs": [],
   "source": [
    "import os\n",
    "import numpy as np\n",
    "import csv \n",
    "import pandas as pd \n",
    "import json"
   ]
  },
  {
   "cell_type": "code",
   "execution_count": 10,
   "metadata": {},
   "outputs": [
    {
     "data": {
      "text/plain": [
       "Index(['Low Pole', 'remove', 'Reason', 'High Pole ', 'remove.1', 'Reason.1'], dtype='object')"
      ]
     },
     "execution_count": 10,
     "metadata": {},
     "output_type": "execute_result"
    }
   ],
   "source": [
    "p = '/Users/pmahableshwarkar/Documents/MeanDepth_Adaptation/mean_depth_adaptation/Jacky - Image Cleaning.csv'\n",
    "df = pd.read_csv(p)\n",
    "df.columns"
   ]
  },
  {
   "cell_type": "code",
   "execution_count": 11,
   "metadata": {},
   "outputs": [
    {
     "data": {
      "text/plain": [
       "40"
      ]
     },
     "execution_count": 11,
     "metadata": {},
     "output_type": "execute_result"
    }
   ],
   "source": [
    "remove = []\n",
    "for index, row in df.iterrows():\n",
    "    if row['remove'] == 1:\n",
    "        remove.append(row['Low Pole'])\n",
    "    remove.append(row['High Pole '])\n",
    "\n",
    "len(remove)"
   ]
  },
  {
   "cell_type": "code",
   "execution_count": 13,
   "metadata": {},
   "outputs": [
    {
     "data": {
      "text/plain": [
       "(175, 205, 380)"
      ]
     },
     "execution_count": 13,
     "metadata": {},
     "output_type": "execute_result"
    }
   ],
   "source": [
    "p = '/Users/pmahableshwarkar/Documents/MeanDepth_Adaptation/Ranking Stimuli'\n",
    "\n",
    "sun_count = 0\n",
    "sunrgbd_count = 0\n",
    "for file in os.listdir(p):\n",
    "    if 'sun' in file:\n",
    "        sun_count += 1\n",
    "    if 'resize' in file:\n",
    "        sunrgbd_count += 1\n",
    "\n",
    "sun_count, sunrgbd_count, sun_count + sunrgbd_count"
   ]
  },
  {
   "cell_type": "markdown",
   "metadata": {},
   "source": [
    "### RAs noted images that should be removed"
   ]
  },
  {
   "cell_type": "code",
   "execution_count": 14,
   "metadata": {},
   "outputs": [
    {
     "data": {
      "text/plain": [
       "Index(['RA', 'Image', 'Reason'], dtype='object')"
      ]
     },
     "execution_count": 14,
     "metadata": {},
     "output_type": "execute_result"
    }
   ],
   "source": [
    "p = '/Users/pmahableshwarkar/Documents/MeanDepth_Adaptation/mean_depth_adaptation/V1 Database Cleaning - duplicates removed.csv'\n",
    "\n",
    "v1_df = pd.read_csv(p)\n",
    "v1_df.columns"
   ]
  },
  {
   "cell_type": "code",
   "execution_count": 23,
   "metadata": {},
   "outputs": [
    {
     "data": {
      "text/plain": [
       "(30, 31)"
      ]
     },
     "execution_count": 23,
     "metadata": {},
     "output_type": "execute_result"
    }
   ],
   "source": [
    "sunrgbd_remove = 0\n",
    "sun_remove = 0\n",
    "\n",
    "remove_files = []\n",
    "for index,row in v1_df.iterrows():\n",
    "    if 'resize' in row['Image']:\n",
    "        sunrgbd_remove += 1\n",
    "        remove_files.append(row['Image'])\n",
    "    if 'sun_' in row['Image']:\n",
    "        sun_remove += 1\n",
    "        remove_files.append(row['Image'])\n",
    "\n",
    "sunrgbd_remove, sun_remove"
   ]
  },
  {
   "cell_type": "code",
   "execution_count": 24,
   "metadata": {},
   "outputs": [
    {
     "data": {
      "text/plain": [
       "61"
      ]
     },
     "execution_count": 24,
     "metadata": {},
     "output_type": "execute_result"
    }
   ],
   "source": [
    "len(remove_files)"
   ]
  },
  {
   "cell_type": "code",
   "execution_count": 16,
   "metadata": {},
   "outputs": [
    {
     "data": {
      "text/plain": [
       "(175, 144)"
      ]
     },
     "execution_count": 16,
     "metadata": {},
     "output_type": "execute_result"
    }
   ],
   "source": [
    "sun_final_count = sun_count - sun_remove\n",
    "sunrgbd_final_count = sunrgbd_count - sunrgbd_remove\n",
    "\n",
    "sunrgbd_final_count, sun_final_count"
   ]
  },
  {
   "cell_type": "markdown",
   "metadata": {},
   "source": [
    "## Copy and paste approved stimuli to 'Cleaned Ranking Stimuli'"
   ]
  },
  {
   "cell_type": "code",
   "execution_count": 29,
   "metadata": {},
   "outputs": [],
   "source": [
    "import shutil\n",
    "\n",
    "src = '/Users/pmahableshwarkar/Documents/MeanDepth_Adaptation/Ranking Stimuli'\n",
    "dest = '/Users/pmahableshwarkar/Documents/MeanDepth_Adaptation/Cleaned Ranking Stimuli'\n",
    "\n",
    "c = 0\n",
    "for file in os.listdir(src):\n",
    "    og = src + '/' + file\n",
    "    target = dest + '/' + file\n",
    "    \n",
    "    if file in remove_files:\n",
    "        c += 1\n",
    "    else:\n",
    "        shutil.copyfile(og, target)"
   ]
  },
  {
   "cell_type": "markdown",
   "metadata": {},
   "source": [
    "## Breakdown of final database\n"
   ]
  },
  {
   "cell_type": "code",
   "execution_count": 8,
   "metadata": {},
   "outputs": [
    {
     "data": {
      "text/plain": [
       "(144, 176, 320)"
      ]
     },
     "execution_count": 8,
     "metadata": {},
     "output_type": "execute_result"
    }
   ],
   "source": [
    "# p = '/Users/pmahableshwarkar/Documents/MeanDepth_Adaptation/Cleaned Ranking Stimuli'\n",
    "p = '/Users/prachimahableshwarkar/Documents/GW/MeanDepth_Adaptation/Cleaned Ranking Stimuli'\n",
    "\n",
    "SUN_count = 0\n",
    "SUNRGBD_count = 0\n",
    "\n",
    "SUN_imgs = []\n",
    "SUNRGBD_imgs = []\n",
    "for file in os.listdir(p):\n",
    "    if 'sun_' in file: \n",
    "        SUN_count +=1\n",
    "        SUN_imgs.append(file)\n",
    "    if 'resize' in file: \n",
    "        SUNRGBD_count += 1\n",
    "        SUNRGBD_imgs.append(file)\n",
    "        \n",
    "\n",
    "SUN_count, SUNRGBD_count, SUN_count + SUNRGBD_count"
   ]
  },
  {
   "cell_type": "markdown",
   "metadata": {},
   "source": [
    "## Split Images into 10 folders pseudo-randomly"
   ]
  },
  {
   "cell_type": "code",
   "execution_count": 9,
   "metadata": {},
   "outputs": [],
   "source": [
    "import random\n",
    "# p = '/Users/pmahableshwarkar/Documents/MeanDepth_Adaptation/Cleaned Ranking Stimuli'\n",
    "p = '/Users/prachimahableshwarkar/Documents/GW/MeanDepth_Adaptation/Cleaned Ranking Stimuli'\n",
    "\n",
    "random.shuffle(SUN_imgs)\n",
    "random.shuffle(SUNRGBD_imgs)"
   ]
  },
  {
   "cell_type": "code",
   "execution_count": 24,
   "metadata": {},
   "outputs": [],
   "source": [
    "folders = []\n",
    "\n",
    "\n",
    "folders = [SUN_imgs[:14]+SUNRGBD_imgs[:18],\n",
    "           SUN_imgs[14:28]+SUNRGBD_imgs[18:36],\n",
    "           SUN_imgs[28:42]+SUNRGBD_imgs[36:54],\n",
    "           SUN_imgs[42:56]+SUNRGBD_imgs[54:72],\n",
    "           SUN_imgs[56:70]+SUNRGBD_imgs[72:90],\n",
    "           SUN_imgs[70:84]+SUNRGBD_imgs[90:108],\n",
    "           SUN_imgs[84:98]+SUNRGBD_imgs[108:126],\n",
    "           SUN_imgs[98:112]+SUNRGBD_imgs[126:144],\n",
    "           SUN_imgs[112:126]+SUNRGBD_imgs[144:162],\n",
    "           SUN_imgs[126:]+SUNRGBD_imgs[162:]]"
   ]
  },
  {
   "cell_type": "code",
   "execution_count": 27,
   "metadata": {},
   "outputs": [
    {
     "name": "stdout",
     "output_type": "stream",
     "text": [
      "32\n",
      "32\n",
      "32\n",
      "32\n",
      "32\n",
      "32\n",
      "32\n",
      "32\n",
      "32\n",
      "32\n"
     ]
    },
    {
     "data": {
      "text/plain": [
       "320"
      ]
     },
     "execution_count": 27,
     "metadata": {},
     "output_type": "execute_result"
    }
   ],
   "source": [
    "sum_ = 0\n",
    "for folder in folders: \n",
    "    print(len(folder))\n",
    "    sum_ += len(folder)\n",
    "\n",
    "sum_"
   ]
  },
  {
   "cell_type": "code",
   "execution_count": 28,
   "metadata": {},
   "outputs": [
    {
     "data": {
      "text/plain": [
       "320"
      ]
     },
     "execution_count": 28,
     "metadata": {},
     "output_type": "execute_result"
    }
   ],
   "source": [
    "def flatten(l):\n",
    "    return [item for sublist in l for item in sublist]\n",
    "\n",
    "flattened_folders = flatten(folders)\n",
    "len(set(flattened_folders))"
   ]
  },
  {
   "cell_type": "code",
   "execution_count": 32,
   "metadata": {},
   "outputs": [],
   "source": [
    "for folder in folders:\n",
    "    random.shuffle(folder)"
   ]
  },
  {
   "cell_type": "code",
   "execution_count": 31,
   "metadata": {},
   "outputs": [],
   "source": [
    "import shutil\n",
    "\n",
    "src = '/Users/prachimahableshwarkar/Documents/GW/MeanDepth_Adaptation/Cleaned Ranking Stimuli'\n",
    "\n",
    "dest = '/Users/prachimahableshwarkar/Documents/GW/MeanDepth_Adaptation/Stimuli Folders'\n",
    "\n",
    "for i in range(len(folders)):\n",
    "    num = i + 1\n",
    "    for file in folders[i]:\n",
    "        og = src + '/' + file\n",
    "        target = dest + '/F' + str(num) + '/' + file\n",
    "\n",
    "        shutil.copyfile(og, target)"
   ]
  },
  {
   "cell_type": "code",
   "execution_count": 33,
   "metadata": {},
   "outputs": [],
   "source": [
    "import pandas as pd\n",
    "\n",
    "# initialize data of lists.\n",
    "data = {'F1': folders[0],\n",
    "        'F2': folders[1],\n",
    "        'F3': folders[2],\n",
    "        'F4': folders[3],\n",
    "        'F5': folders[4],\n",
    "        'F6': folders[5],\n",
    "        'F7': folders[6],\n",
    "        'F8': folders[7],\n",
    "        'F9': folders[8],\n",
    "        'F10':folders[9]}\n",
    "  \n",
    "# Create DataFrame\n",
    "df = pd.DataFrame(data)\n",
    "  \n",
    "# Print the output.\n",
    "df.to_csv('image_orders.csv') "
   ]
  },
  {
   "cell_type": "code",
   "execution_count": 5,
   "metadata": {},
   "outputs": [
    {
     "name": "stdout",
     "output_type": "stream",
     "text": [
      "31\n",
      "33\n",
      "33\n",
      "33\n",
      "33\n",
      "31\n",
      "31\n",
      "31\n",
      "33\n",
      "31\n"
     ]
    }
   ],
   "source": [
    "p = '/Users/prachimahableshwarkar/Downloads/updated/Stimuli Folders'\n",
    "\n",
    "for folder in os.listdir(p):\n",
    "    c = 0\n",
    "    if 'F' in folder:\n",
    "        for file in os.listdir(p + '/' + folder):\n",
    "            if 'jpg' in file:\n",
    "                c += 1\n",
    "        print(c)"
   ]
  },
  {
   "cell_type": "code",
   "execution_count": null,
   "metadata": {},
   "outputs": [],
   "source": []
  }
 ],
 "metadata": {
  "kernelspec": {
   "display_name": "Python 3",
   "language": "python",
   "name": "python3"
  },
  "language_info": {
   "codemirror_mode": {
    "name": "ipython",
    "version": 3
   },
   "file_extension": ".py",
   "mimetype": "text/x-python",
   "name": "python",
   "nbconvert_exporter": "python",
   "pygments_lexer": "ipython3",
   "version": "3.7.4"
  }
 },
 "nbformat": 4,
 "nbformat_minor": 4
}
