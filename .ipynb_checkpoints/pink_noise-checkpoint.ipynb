{
 "cells": [
  {
   "cell_type": "markdown",
   "metadata": {},
   "source": [
    "# Pink Noise Mask\n",
    "\n",
    "MATLAB code source: Dr. Michelle Greene"
   ]
  },
  {
   "cell_type": "code",
   "execution_count": 1,
   "metadata": {},
   "outputs": [],
   "source": [
    "from scipy.io import loadmat  # this is the SciPy module that loads mat-files\n",
    "from PIL import Image, ImageStat\n",
    "import os \n",
    "import numpy as np"
   ]
  },
  {
   "cell_type": "markdown",
   "metadata": {},
   "source": [
    "#### Mask size should be equal to are larger than each stimulus"
   ]
  },
  {
   "cell_type": "code",
   "execution_count": 2,
   "metadata": {},
   "outputs": [],
   "source": [
    "paths = ['/Users/prachi/Documents/MeanDepthAdaptation_Stimuli/medium/SUN_medium',\n",
    "         '/Users/prachi/Documents/MeanDepthAdaptation_Stimuli/medium/SUN-RGBD_medium']"
   ]
  },
  {
   "cell_type": "code",
   "execution_count": 3,
   "metadata": {},
   "outputs": [
    {
     "data": {
      "text/plain": [
       "829"
      ]
     },
     "execution_count": 3,
     "metadata": {},
     "output_type": "execute_result"
    }
   ],
   "source": [
    "img_widths = []\n",
    "for path in paths:\n",
    "    for img in os.listdir(path):\n",
    "        if img != '.DS_Store':\n",
    "            im = Image.open(path + '/' + img)\n",
    "            im.load()\n",
    "            im_data = np.asarray(im)\n",
    "            img_widths.append(im_data.shape[1])\n",
    "max(img_widths)"
   ]
  },
  {
   "cell_type": "code",
   "execution_count": 5,
   "metadata": {},
   "outputs": [],
   "source": [
    "npath = '/Users/prachi/Documents/MeanDepthAdaptation_Stimuli/mask_data/noise_830px.mat'\n",
    "noise_mat = loadmat(npath)  # load mat-file"
   ]
  },
  {
   "cell_type": "code",
   "execution_count": 6,
   "metadata": {},
   "outputs": [
    {
     "data": {
      "text/plain": [
       "(830, 830, 3)"
      ]
     },
     "execution_count": 6,
     "metadata": {},
     "output_type": "execute_result"
    }
   ],
   "source": [
    "noise_data = noise_mat['ans']\n",
    "noise_data.shape"
   ]
  },
  {
   "cell_type": "code",
   "execution_count": 7,
   "metadata": {},
   "outputs": [],
   "source": [
    "import PIL\n",
    "image = PIL.Image.fromarray(noise_data, \"RGB\")\n",
    "dest = '/Users/prachi/Documents/MeanDepthAdaptation_Stimuli/masks/'\n",
    "image.save(dest + \"mask_830.png\")"
   ]
  },
  {
   "cell_type": "code",
   "execution_count": null,
   "metadata": {},
   "outputs": [],
   "source": []
  }
 ],
 "metadata": {
  "kernelspec": {
   "display_name": "Python 3",
   "language": "python",
   "name": "python3"
  },
  "language_info": {
   "codemirror_mode": {
    "name": "ipython",
    "version": 3
   },
   "file_extension": ".py",
   "mimetype": "text/x-python",
   "name": "python",
   "nbconvert_exporter": "python",
   "pygments_lexer": "ipython3",
   "version": "3.6.1"
  }
 },
 "nbformat": 4,
 "nbformat_minor": 4
}
