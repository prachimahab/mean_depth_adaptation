{
 "cells": [
  {
   "cell_type": "markdown",
   "metadata": {},
   "source": [
    "# Mean Depth Adaptation: Experiment Trial Sequence(s)"
   ]
  },
  {
   "cell_type": "code",
   "execution_count": 29,
   "metadata": {},
   "outputs": [],
   "source": [
    "import numpy as np \n",
    "import json \n",
    "import os\n",
    "import pandas as pd\n",
    "import csv"
   ]
  },
  {
   "cell_type": "code",
   "execution_count": 7,
   "metadata": {},
   "outputs": [],
   "source": [
    "low_destination = '/Users/prachi/Documents/MeanDepthAdaptation_Stimuli/low_pole'\n",
    "control_destination = '/Users/prachi/Documents/MeanDepthAdaptation_Stimuli/control'\n",
    "high_destination = '/Users/prachi/Documents/MeanDepthAdaptation_Stimuli/high_pole'"
   ]
  },
  {
   "cell_type": "markdown",
   "metadata": {},
   "source": [
    "#### How many repeats (one back instances) should I include?\n",
    "\n",
    "- 7 on average \n",
    "- randomly dispersed? \n",
    "- how many versions of the experiment should I make?"
   ]
  },
  {
   "cell_type": "code",
   "execution_count": 22,
   "metadata": {},
   "outputs": [],
   "source": [
    "# dict that keeps track of image assignment\n",
    "final_stimuli = {'low': [], 'SUN_control': [], 'SUN-RGBD_control': [], 'test_images': [], 'high': []}\n"
   ]
  },
  {
   "cell_type": "code",
   "execution_count": 23,
   "metadata": {},
   "outputs": [
    {
     "data": {
      "text/plain": [
       "(147, 47)"
      ]
     },
     "execution_count": 23,
     "metadata": {},
     "output_type": "execute_result"
    }
   ],
   "source": [
    "count_control = 0\n",
    "count_SUNRGBD_control = 0\n",
    "for img in os.listdir(control_destination+'/SUN_control'):\n",
    "    if img != '.DS_Store':\n",
    "        count_control += 1\n",
    "        final_stimuli['SUN_control'].append(img)\n",
    "for img in os.listdir(control_destination+'/SUN-RGBD_control'):\n",
    "    if img != '.DS_Store':\n",
    "        count_control += 1\n",
    "        count_SUNRGBD_control += 1\n",
    "        final_stimuli['SUN-RGBD_control'].append(img)\n",
    "count_control, count_SUNRGBD_control\n",
    "\n",
    "# TO DO: Need to select 30 test images from SUN-RGBD_control \n",
    "# After selecting test images, pare down control set to 100 images"
   ]
  },
  {
   "cell_type": "code",
   "execution_count": 24,
   "metadata": {},
   "outputs": [
    {
     "data": {
      "text/plain": [
       "100"
      ]
     },
     "execution_count": 24,
     "metadata": {},
     "output_type": "execute_result"
    }
   ],
   "source": [
    "count_high = 0\n",
    "for img in os.listdir(high_destination):\n",
    "    if img != '.DS_Store':\n",
    "        count_high += 1\n",
    "        final_stimuli['high'].append(img)\n",
    "count_high"
   ]
  },
  {
   "cell_type": "code",
   "execution_count": 18,
   "metadata": {},
   "outputs": [],
   "source": [
    "# only 100 images were needed, so 5 images were removed \n",
    "imgs_removed = ['002672_2014-06-13_16-06-56_094959634447_rgbf000153-resize.jpg',\n",
    "        'sun_adrfwejsmwzeufqt.jpg', \n",
    "        'sun_ajhgyizucknowlhm.jpg',\n",
    "        'sun_blyyqnakwazdxqoo.jpg',\n",
    "        '000103_2014-05-14_22-01-17_260595134347_rgbf000152-resize.jpg']"
   ]
  },
  {
   "cell_type": "code",
   "execution_count": 25,
   "metadata": {},
   "outputs": [
    {
     "data": {
      "text/plain": [
       "100"
      ]
     },
     "execution_count": 25,
     "metadata": {},
     "output_type": "execute_result"
    }
   ],
   "source": [
    "count_low = 0\n",
    "for img in os.listdir(low_destination):\n",
    "    if img != '.DS_Store':\n",
    "        count_low += 1\n",
    "        final_stimuli['low'].append(img)\n",
    "count_low"
   ]
  },
  {
   "cell_type": "markdown",
   "metadata": {},
   "source": [
    "### Save final stimuli assignments to a csv"
   ]
  },
  {
   "cell_type": "code",
   "execution_count": 36,
   "metadata": {},
   "outputs": [
    {
     "name": "stderr",
     "output_type": "stream",
     "text": [
      "/Users/prachi/Documents/depth_duration/experiment/lib/python3.6/site-packages/ipykernel_launcher.py:1: DeprecationWarning: The default dtype for empty Series will be 'object' instead of 'float64' in a future version. Specify a dtype explicitly to silence this warning.\n",
      "  \"\"\"Entry point for launching an IPython kernel.\n"
     ]
    }
   ],
   "source": [
    "df = pd.DataFrame({key: pd.Series(value) for key, value in final_stimuli.items()})\n",
    "df.to_csv(\"MeanDepthAdaptation_Stimuli.csv\", encoding='utf-8', index=False)"
   ]
  },
  {
   "cell_type": "code",
   "execution_count": null,
   "metadata": {},
   "outputs": [],
   "source": []
  },
  {
   "cell_type": "code",
   "execution_count": null,
   "metadata": {},
   "outputs": [],
   "source": []
  }
 ],
 "metadata": {
  "kernelspec": {
   "display_name": "Python 3",
   "language": "python",
   "name": "python3"
  },
  "language_info": {
   "codemirror_mode": {
    "name": "ipython",
    "version": 3
   },
   "file_extension": ".py",
   "mimetype": "text/x-python",
   "name": "python",
   "nbconvert_exporter": "python",
   "pygments_lexer": "ipython3",
   "version": "3.6.1"
  }
 },
 "nbformat": 4,
 "nbformat_minor": 4
}
