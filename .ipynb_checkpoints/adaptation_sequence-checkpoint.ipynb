{
 "cells": [
  {
   "cell_type": "markdown",
   "metadata": {},
   "source": [
    "# Mean Depth Adaptation: Experiment Trial Sequence(s)"
   ]
  },
  {
   "cell_type": "code",
   "execution_count": 6,
   "metadata": {},
   "outputs": [],
   "source": [
    "import numpy as np \n",
    "import json \n",
    "import os"
   ]
  },
  {
   "cell_type": "code",
   "execution_count": 7,
   "metadata": {},
   "outputs": [],
   "source": [
    "low_destination = '/Users/prachi/Documents/MeanDepthAdaptation_Stimuli/low_pole'\n",
    "control_destination = '/Users/prachi/Documents/MeanDepthAdaptation_Stimuli/control'\n",
    "high_destination = '/Users/prachi/Documents/MeanDepthAdaptation_Stimuli/high_pole'"
   ]
  },
  {
   "cell_type": "markdown",
   "metadata": {},
   "source": [
    "#### How many repeats (one back instances) should I include?\n",
    "\n",
    "- 7 on average \n",
    "- randomly dispersed? \n",
    "- how many versions of the experiment should I make?"
   ]
  },
  {
   "cell_type": "code",
   "execution_count": 19,
   "metadata": {},
   "outputs": [
    {
     "data": {
      "text/plain": [
       "147"
      ]
     },
     "execution_count": 19,
     "metadata": {},
     "output_type": "execute_result"
    }
   ],
   "source": [
    "count_control = 0\n",
    "for img in os.listdir(control_destination+'/SUN_control'):\n",
    "    if img != '.DS_Store':\n",
    "        count_control += 1\n",
    "for img in os.listdir(control_destination+'/SUN-RGBD_control'):\n",
    "    if img != '.DS_Store':\n",
    "        count_control += 1\n",
    "count_control\n",
    "\n",
    "# TO DO: Need to select 30 test images from SUN-RGBD_control \n",
    "# After selecting test images, pare down control set to 100 images"
   ]
  },
  {
   "cell_type": "code",
   "execution_count": 15,
   "metadata": {},
   "outputs": [
    {
     "data": {
      "text/plain": [
       "100"
      ]
     },
     "execution_count": 15,
     "metadata": {},
     "output_type": "execute_result"
    }
   ],
   "source": [
    "count_high = 0\n",
    "for img in os.listdir(high_destination):\n",
    "    if img != '.DS_Store':\n",
    "        count_high += 1\n",
    "count_high"
   ]
  },
  {
   "cell_type": "code",
   "execution_count": 18,
   "metadata": {},
   "outputs": [],
   "source": [
    "# only 100 images were needed, so 5 images were removed \n",
    "imgs_removed = ['002672_2014-06-13_16-06-56_094959634447_rgbf000153-resize.jpg',\n",
    "        'sun_adrfwejsmwzeufqt.jpg', \n",
    "        'sun_ajhgyizucknowlhm.jpg',\n",
    "        'sun_blyyqnakwazdxqoo.jpg',\n",
    "        '000103_2014-05-14_22-01-17_260595134347_rgbf000152-resize.jpg']"
   ]
  },
  {
   "cell_type": "code",
   "execution_count": 17,
   "metadata": {},
   "outputs": [
    {
     "data": {
      "text/plain": [
       "100"
      ]
     },
     "execution_count": 17,
     "metadata": {},
     "output_type": "execute_result"
    }
   ],
   "source": [
    "count_low = 0\n",
    "for img in os.listdir(low_destination):\n",
    "    if img != '.DS_Store':\n",
    "        count_low += 1\n",
    "count_low"
   ]
  },
  {
   "cell_type": "code",
   "execution_count": null,
   "metadata": {},
   "outputs": [],
   "source": []
  }
 ],
 "metadata": {
  "kernelspec": {
   "display_name": "Python 3",
   "language": "python",
   "name": "python3"
  },
  "language_info": {
   "codemirror_mode": {
    "name": "ipython",
    "version": 3
   },
   "file_extension": ".py",
   "mimetype": "text/x-python",
   "name": "python",
   "nbconvert_exporter": "python",
   "pygments_lexer": "ipython3",
   "version": "3.6.1"
  }
 },
 "nbformat": 4,
 "nbformat_minor": 4
}
