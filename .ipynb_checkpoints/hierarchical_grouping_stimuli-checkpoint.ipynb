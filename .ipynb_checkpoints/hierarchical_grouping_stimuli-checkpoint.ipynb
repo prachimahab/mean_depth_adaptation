{
 "cells": [
  {
   "cell_type": "markdown",
   "metadata": {},
   "source": [
    "## Exploration of SUNRGBD image characteristics\n",
    "\n",
    "Distribution of scene categories & paths organized by scene category"
   ]
  },
  {
   "cell_type": "code",
   "execution_count": 19,
   "metadata": {},
   "outputs": [
    {
     "name": "stdout",
     "output_type": "stream",
     "text": [
      "{'furniture_store': 938, 'bedroom': 121, 'classroom': 463, 'dining_room': 12, 'living_room': 51, 'kitchen': 66, 'printer_room': 43, 'conference_room': 64, 'idk': 56, 'library': 123, 'computer_room': 37, 'corridor': 136, 'music_room': 1, 'office': 394, 'study_space': 119, 'recreation_room': 31, 'lobby': 5, 'home_office': 10, 'bathroom': 139, 'lecture_theatre': 33, 'discussion_area': 62, 'office_kitchen': 16, 'cafeteria': 5, 'dining_area': 156, 'office_dining': 9, 'rest_space': 361, 'mail_room': 4, 'reception': 16, 'coffee_room': 1, 'hotel_room': 4, 'exhibition': 6, 'lab': 3}\n"
     ]
    }
   ],
   "source": [
    "import os\n",
    "import shutil \n",
    "            \n",
    "def categoryDistribution(rootdir, destination):\n",
    "    \"\"\"\n",
    "    Get category distribution, and make folders for all the scene categories \n",
    "    \"\"\"\n",
    "    scene_category = {} # dict of count of scene categories\n",
    "    scene_category_paths = {} # dict of scene paths organized by category\n",
    "    for folder in os.listdir(rootdir):\n",
    "        if folder != \".DS_Store\":\n",
    "            folder_path = os.path.join(rootdir, folder)\n",
    "            for file in os.listdir(folder_path):\n",
    "                if file == \"scene.txt\":\n",
    "                    filepath = os.path.join(rootdir, folder, file)\n",
    "                    sceneFile = open(filepath, \"r\")\n",
    "                    scene = sceneFile.read()\n",
    "                    if scene not in scene_category:\n",
    "                        scene_category[scene] = 1\n",
    "                        scene_category_paths[scene] = [folder_path]\n",
    "                        path_newfolder = destination + \"/\" + scene\n",
    "#                         os.mkdir(path_newfolder) \n",
    "                    else:\n",
    "                        scene_category[scene] += 1\n",
    "                        scene_category_paths[scene].append(folder_path)\n",
    "    return scene_category, scene_category_paths\n",
    "\n",
    "        \n",
    "rootdir = '/Users/prachi/Documents/depth_duration/SUNRGBD/kv2/kinect2data' ##NOTE USING DIFFERENT FOLDER \n",
    "\n",
    "category_SUNRGBD = '/Users/prachi/Documents/MD_SUN-RGBD'\n",
    "\n",
    "output = categoryDistribution(rootdir, category_SUNRGBD)\n",
    "\n",
    "print(output[0])\n",
    "\n",
    "def categoryFoldersSUNRGBD(rootdir, destination):\n",
    "    \"\"\"\n",
    "    Organize SUN-RGBD by scene category after scene category folders have already been made\n",
    "    (in function above)\n",
    "    \n",
    "    \"\"\"\n",
    "    for folder in os.listdir(rootdir):\n",
    "        if folder != \".DS_Store\":\n",
    "            folder_path = os.path.join(rootdir, folder)\n",
    "            for file in os.listdir(folder_path):\n",
    "                if file == \"scene.txt\":\n",
    "                    filepath = os.path.join(rootdir, folder, file)\n",
    "                    sceneFile = open(filepath, \"r\")\n",
    "                    scene = sceneFile.read()\n",
    "                    source = os.path.join(rootdir, folder)\n",
    "                    new_destination = destination + '/' + scene\n",
    "#                     print(source, new_destination)\n",
    "                    shutil.move(source, new_destination)\n",
    "                    \n",
    "kinectv2 = '/Users/prachi/Documents/MD_SUN-RGBD/kinect2data'\n",
    "category_SUNRGBD = '/Users/prachi/Documents/MD_SUN-RGBD'\n",
    "\n",
    "# categoryFoldersSUNRGBD(kinectv2, category_SUNRGBD)"
   ]
  },
  {
   "cell_type": "markdown",
   "metadata": {},
   "source": [
    "### Count number of images per folder"
   ]
  },
  {
   "cell_type": "code",
   "execution_count": 25,
   "metadata": {},
   "outputs": [
    {
     "data": {
      "text/plain": [
       "{'bathroom': 139,\n",
       " 'bedroom': 121,\n",
       " 'cafeteria': 5,\n",
       " 'classroom': 463,\n",
       " 'computer_room': 37,\n",
       " 'conference_room': 64,\n",
       " 'dining_area': 156,\n",
       " 'dining_room': 12,\n",
       " 'discussion_area': 62,\n",
       " 'furniture_store': 938,\n",
       " 'home_office': 10,\n",
       " 'kitchen': 66,\n",
       " 'library': 123,\n",
       " 'living_room': 51,\n",
       " 'lobby': 5,\n",
       " 'music_room': 1,\n",
       " 'office': 394,\n",
       " 'office_dining': 9,\n",
       " 'office_kitchen': 16,\n",
       " 'printer_room': 43,\n",
       " 'reception': 16,\n",
       " 'recreation_room': 31,\n",
       " 'rest_space': 361,\n",
       " 'study_space': 119}"
      ]
     },
     "execution_count": 25,
     "metadata": {},
     "output_type": "execute_result"
    }
   ],
   "source": [
    "def imagecount_SUNRGBD(rootdir):\n",
    "    category_distribution = {}\n",
    "    for folder in os.listdir(rootdir):\n",
    "        if folder != \".DS_Store\":\n",
    "            count = 0\n",
    "            folderpath = os.path.join(rootdir, folder)\n",
    "            scene = folderpath.split('/')[-1]\n",
    "            for image in os.listdir(folderpath):\n",
    "                count += 1\n",
    "            category_distribution[scene] = count\n",
    "\n",
    "    return category_distribution\n",
    "\n",
    "category_SUNRGBD = '/Users/prachi/Documents/MD_SUN-RGBD'\n",
    "\n",
    "SUN = '/Users/prachi/Documents/MeanDepth_SUN'\n",
    "\n",
    "imagecount_SUNRGBD(category_SUNRGBD)\n",
    "    "
   ]
  },
  {
   "cell_type": "markdown",
   "metadata": {},
   "source": [
    "Marwa:\n",
    "bathroom - discussion_area\n",
    "1059 images \n",
    "\n",
    "Suraj:\n",
    "furniture_store - study_space \n",
    "2183 images\n",
    "\n",
    "Total = 3242"
   ]
  },
  {
   "cell_type": "code",
   "execution_count": 38,
   "metadata": {},
   "outputs": [
    {
     "data": {
      "text/plain": [
       "3242"
      ]
     },
     "execution_count": 38,
     "metadata": {},
     "output_type": "execute_result"
    }
   ],
   "source": [
    "x = 139 + 121 + 5 + 463 + 37 + 64 + 156 + 12 + 62 \n",
    "\n",
    "y = 938 + 10 + 66 + 123 + 51 + 5 + 1 + 394 + 9 + 16 + 43 + 16 + 31 + 361 + 119\n",
    "\n",
    "x + y"
   ]
  },
  {
   "cell_type": "markdown",
   "metadata": {},
   "source": [
    "Originally was going to do equal sampling from all folders, but that is too limiting \n",
    "- would it be too confusing to just tell the RAs to get an even sample? \n",
    "- sample from the folders that have a smaller count first?\n",
    "\n",
    "Make sure you go into each folder"
   ]
  },
  {
   "cell_type": "markdown",
   "metadata": {},
   "source": [
    "# SUN database image categories\n",
    "\n",
    "- The following image folders are all indoors\n",
    "- Some indoor folders were not included since they had too many images with poor image characteristics \n",
    "- Stimuli Selection Guide: https://docs.google.com/document/d/1uwWAMf9fNJgzQjiYZTVynn7WfSLvxdZzT7V5uWz-nuU/edit#heading=h.l11npecuj44t"
   ]
  },
  {
   "cell_type": "code",
   "execution_count": null,
   "metadata": {},
   "outputs": [],
   "source": []
  },
  {
   "cell_type": "code",
   "execution_count": 89,
   "metadata": {},
   "outputs": [
    {
     "name": "stdout",
     "output_type": "stream",
     "text": [
      "54\n"
     ]
    }
   ],
   "source": [
    "folders = [\"a/archive\", \"a/art_gallery\",\"a/attic\", \"a/auditorium\", \"b/ballroom\", \"b/banquet_hall\", \"b/bar\", \"b/bathroom\"\n",
    "           ,\"b/bedroom\", \"b/bistro/indoor\",\"b/bookstore\", \"c/cafeteria\",\"c/childs_room\",\"c/classroom\",\"c/closet\"\n",
    "           ,\"c/coffee_shop\",\"c/computer_room\",\"c/conference_room\",\"c/courtroom\",\"d/dining_room\",\"d/dorm_room\",\"g/game_room\"\n",
    "           ,\"g/gymnasium/indoor\",\"h/home_office\",\"h/hotel_room\",\"j/jewelry_shop\",\"k/kindergarden_classroom\",\"k/kitchen\"\n",
    "           ,\"k/kitchenette\",\"l/laundromat\",\"l/lecture_room\",\"l/library/indoor\",\"l/living_room\",\"l/locker_room\",\"m/music_store\"\n",
    "           ,\"n/nursery\",\"o/office\",\"p/pantry\",\"p/pharmacy\",\"p/playroom\",\"r/reception\",\"r/recreation_room\",\"r/restaurant\"\n",
    "           ,\"s/shoe_shop\",\"s/shopping_mall/indoor\",\"s/staircase\",\"s/supermarket\",\"s/sushi_bar\",\"t/toyshop\",\"u/utility_room\"\n",
    "           ,\"w/waiting_room\",\"w/wet_bar\",\"w/wine_cellar/bottle_storage\",\"y/youth_hostel\"]\n",
    "\n",
    "print(len(folders))"
   ]
  },
  {
   "cell_type": "code",
   "execution_count": 13,
   "metadata": {},
   "outputs": [
    {
     "data": {
      "text/plain": [
       "2793"
      ]
     },
     "execution_count": 13,
     "metadata": {},
     "output_type": "execute_result"
    }
   ],
   "source": [
    "import os \n",
    "from PIL import Image \n",
    "import operator\n",
    "\n",
    "def imageSize(rootdir, folders):\n",
    "    size_dict = {}\n",
    "    for folder in folders:\n",
    "        folderpath = os.path.join(rootdir, folder)\n",
    "        for image in os.listdir(folderpath):\n",
    "            imagepath = os.path.join(rootdir, folder, image)\n",
    "            PIL_image = Image.open(imagepath)\n",
    "            width, height = PIL_image.size \n",
    "            imageSize = tuple([width, height])\n",
    "            if imageSize not in size_dict:\n",
    "                size_dict[imageSize] = 1\n",
    "            else:\n",
    "                size_dict[imageSize] += 1\n",
    "    \n",
    "    return size_dict\n",
    "        \n",
    "    \n",
    "    \n",
    "path = \"/Users/prachi/Documents/SUN397\"\n",
    "SUN_size = imageSize(path, folders)   \n",
    "\n",
    "max(SUN_size.items(), key=operator.itemgetter(1))[0]\n",
    "\n",
    "SUN_size[(256, 256)]\n",
    "\n"
   ]
  },
  {
   "cell_type": "code",
   "execution_count": 1,
   "metadata": {},
   "outputs": [],
   "source": [
    "def imageSizeCategoryDistribution(rootdir, folders, width, height):\n",
    "    \"\"\"\n",
    "    Find out how many images in each folder are greater than are equal to dimensions passed through\n",
    "    \"\"\"\n",
    "    count_folders = []\n",
    "    for folder in folders:\n",
    "        count = 0\n",
    "        folderpath = os.path.join(rootdir, folder)\n",
    "        for image in os.listdir(folderpath):\n",
    "            imagepath = os.path.join(rootdir, folder, image)\n",
    "            PIL_image = Image.open(imagepath)\n",
    "            w, h = PIL_image.size \n",
    "            if w >= width:\n",
    "                if h >= height:\n",
    "                    count+= 1\n",
    "        count_folders.append(count)\n",
    "    \n",
    "    return count_folders\n",
    "        \n",
    "path = \"/Users/prachi/Documents/SUN397\"\n",
    "        \n",
    "imageSizeCategoryDistribution(path, folders, 256, 256)\n",
    "\n",
    "# Conclusion: Too many folders have NO images that are (256, 256) "
   ]
  },
  {
   "cell_type": "code",
   "execution_count": 78,
   "metadata": {},
   "outputs": [],
   "source": [
    "p = '/Users/prachi/Desktop/sun_afwmvcfqgvxaiubd.jpg'\n",
    "\n",
    "\n",
    "def resizeImage(imagepath):\n",
    "    split_path = imagepath.split('/')\n",
    "    file = split_path[-1]\n",
    "    split_file = file.split('.')\n",
    "    image = split_file[0]\n",
    "    \n",
    "    foo = Image.open(imagepath)\n",
    "    foo = foo.resize((730,500),Image.ANTIALIAS)\n",
    "    foo.save(\"/Users/prachi/Desktop/\" + image + \"_scaled.jpg\",optimize=True,quality=95)\n",
    "     # The saved downsized image size is 22.9kb\n",
    "        \n",
    "resizeImage(p)"
   ]
  },
  {
   "cell_type": "markdown",
   "metadata": {},
   "source": [
    "Testing Resizing images:\n",
    "- Scale up\n",
    "- Scale down "
   ]
  },
  {
   "cell_type": "markdown",
   "metadata": {},
   "source": [
    "### Check how many SUN images have an Aspect Ratio (width : height) of 730 : 530 "
   ]
  },
  {
   "cell_type": "code",
   "execution_count": 12,
   "metadata": {},
   "outputs": [],
   "source": [
    "from PIL import Image \n",
    "import os\n",
    "\n",
    "def getAspectRatio(imagepath):\n",
    "    \"\"\"\n",
    "    Returns the aspect ratio (width/height) of the image \n",
    "    \"\"\"\n",
    "    try:\n",
    "        im = Image.open(imagepath)\n",
    "    except ValueError as err:\n",
    "        print(err)\n",
    "        print(\"Error on image: \", img)\n",
    "        \n",
    "    width, height = im.size\n",
    "    \n",
    "#     aspect_ratio = round(width/height, 1) # rounds to the nearest tenth\n",
    "    aspect_ratio = width/height\n",
    "\n",
    "    \n",
    "    return aspect_ratio, width, height \n",
    "\n",
    "\n",
    "def AspectRatioDistribution(rootdir, folders):\n",
    "    \"\"\"\n",
    "    Check how many images fit within a certain criterion for aspect ratio\n",
    "    \"\"\"\n",
    "    count = 0\n",
    "    count_not = 0\n",
    "    count_height_530 = 0\n",
    "    for folder in folders:\n",
    "        folderpath = os.path.join(rootdir, folder)\n",
    "        for image in os.listdir(folderpath):\n",
    "            imagepath = os.path.join(rootdir, folder, image)\n",
    "            aspect_ratio, width, height = getAspectRatio(imagepath)\n",
    "            if (730/530) <= aspect_ratio <= 1.5:\n",
    "                count += 1\n",
    "            else:\n",
    "                count_not += 1\n",
    "            if height == 530:\n",
    "                count_height_530 +=1 \n",
    "#                 print(imagepath)\n",
    "    return count, count_not\n",
    "\n",
    "path = \"/Users/prachi/Documents/MeanDepth_SUN\"\n",
    "\n",
    "# AspectRatioDistribution(path, folders)"
   ]
  },
  {
   "cell_type": "code",
   "execution_count": null,
   "metadata": {},
   "outputs": [],
   "source": []
  },
  {
   "cell_type": "code",
   "execution_count": 94,
   "metadata": {},
   "outputs": [],
   "source": [
    "def filterbyAspectRatio(rootdir, folders):\n",
    "    \"\"\"\n",
    "    Delete images that have an aspect ratio of of range: \n",
    "    1.37-1.6 inclusive \n",
    "    \n",
    "    \"\"\"\n",
    "    paths_keep = []\n",
    "    for folder in folders:\n",
    "        folderpath = os.path.join(rootdir, folder)\n",
    "        for image in os.listdir(folderpath):\n",
    "            imagepath = os.path.join(rootdir, folder, image)\n",
    "            aspect_ratio, width, height = getAspectRatio(imagepath)\n",
    "            if (730/530) <= aspect_ratio <= 1.6:\n",
    "                paths_keep.append(imagepath)\n",
    "            else:\n",
    "                os.remove(imagepath)\n",
    "    \n",
    "    return paths_keep, len(paths_keep)"
   ]
  },
  {
   "cell_type": "code",
   "execution_count": 95,
   "metadata": {},
   "outputs": [],
   "source": [
    "path = \"/Users/prachi/Documents/MeanDepth_SUN\"\n",
    "\n",
    "paths_filtered, imagecount = filterbyAspectRatio(path, folders)"
   ]
  },
  {
   "cell_type": "code",
   "execution_count": 3,
   "metadata": {},
   "outputs": [],
   "source": [
    "def resizeImage(imagepath):\n",
    "    \"\"\"\n",
    "    Scale just the height dimension to 530, and then use that proportional change in height to scale the width dimension accordingly. \n",
    "    This way the aspect ratio from the original image to the scaled image is the same. \n",
    "    \"\"\"\n",
    "    try:\n",
    "        im = Image.open(imagepath)\n",
    "    except ValueError as err:\n",
    "        print(err)\n",
    "        print(\"Error on image: \", img)\n",
    "        \n",
    "    width, height = im.size\n",
    "    aspect_ratio = width/height\n",
    "    \n",
    "    # the new width is calculated such that the aspect ratio does not change \n",
    "    # new height is set to 530, so the width is proportionally increased the \n",
    "      # same amount the height was \n",
    "    new_width = int(aspect_ratio * 530)\n",
    "\n",
    "    foo = Image.open(imagepath)\n",
    "    foo = foo.resize((new_width,530),Image.ANTIALIAS)\n",
    "    foo.save(imagepath ,optimize=True,quality=95)\n",
    "     # The saved downsized image size is 22.9kb\n",
    "\n",
    "# resizeImage(p)\n",
    "\n",
    "\n",
    "def resizeDatabase(rootdir, folders):\n",
    "    \"\"\"\n",
    "    Run resizeImage on all images\n",
    "    \"\"\"\n",
    "    for folder in folders:\n",
    "        folderpath = os.path.join(rootdir, folder)\n",
    "        for image in os.listdir(folderpath):\n",
    "            imagepath = os.path.join(rootdir, folder, image)\n",
    "            try:\n",
    "                resizeImage(imagepath)\n",
    "            except:\n",
    "                print(\"Failed at: \", imagepath)\n",
    "    \n",
    "path = '/Users/prachi/Documents/MeanDepth_SUN'  \n",
    "# resizeDatabase(path, folders)"
   ]
  },
  {
   "cell_type": "code",
   "execution_count": 14,
   "metadata": {},
   "outputs": [],
   "source": [
    "def filterFolderbyAspectRatio(rootdir):\n",
    "    \"\"\"\n",
    "    Delete images that have an aspect ratio of of range: \n",
    "    1.37-1.6 inclusive \n",
    "    \n",
    "    \"\"\"\n",
    "    paths_keep = []\n",
    "    for image in os.listdir(rootdir):\n",
    "        imagepath = os.path.join(rootdir, image)\n",
    "        aspect_ratio, width, height = getAspectRatio(imagepath)\n",
    "        if (730/530) <= aspect_ratio <= 1.6:\n",
    "            paths_keep.append(imagepath)\n",
    "        else:\n",
    "            os.remove(imagepath)\n",
    "    \n",
    "    return paths_keep, len(paths_keep)"
   ]
  },
  {
   "cell_type": "code",
   "execution_count": 34,
   "metadata": {},
   "outputs": [],
   "source": [
    "parlor = '/Users/prachi/Documents/parlor'\n",
    "# filterFolderbyAspectRatio(parlor)"
   ]
  },
  {
   "cell_type": "code",
   "execution_count": 10,
   "metadata": {},
   "outputs": [],
   "source": [
    "import os\n",
    "from PIL import Image \n",
    "\n",
    "def resizeFolder(rootdir):\n",
    "    \"\"\"\n",
    "    Run resizeImage on all images in a specific scene category folder \n",
    "    \"\"\"\n",
    "    for image in os.listdir(rootdir):\n",
    "        imagepath = os.path.join(rootdir, image)\n",
    "        try:\n",
    "            resizeImage(imagepath)\n",
    "        except:\n",
    "            print(\"Failed at: \", imagepath)\n"
   ]
  },
  {
   "cell_type": "code",
   "execution_count": 35,
   "metadata": {},
   "outputs": [],
   "source": [
    "resizeFolder(parlor)"
   ]
  },
  {
   "cell_type": "code",
   "execution_count": 36,
   "metadata": {},
   "outputs": [],
   "source": [
    "lobby_selected = ['lobby/sun_afrlfajzgqhnadpe.jpg',\n",
    "                  'lobby/sun_bgbpvhuhzxmtvimk.jpg',\n",
    "                  'lobby/sun_bgqfjdbwzmgktxfz.jpg',\n",
    "                  'lobby/sun_blrezysmfhmmxuic.jpg']\n",
    "\n",
    "parlor_selected = ['parlor/sun_bicdjokshkccozjk.jpg',\n",
    "                   'parlor/sun_bwfbjujwjxxnfqnh.jpg']"
   ]
  },
  {
   "cell_type": "code",
   "execution_count": null,
   "metadata": {},
   "outputs": [],
   "source": []
  },
  {
   "cell_type": "markdown",
   "metadata": {},
   "source": [
    "### 54 final SUN categories\n",
    "Each RA receives an even subset proportional to the number of images they were assigned to select\n",
    "\n",
    "Kennedy: 200 images\n",
    "a - 4\n",
    "b - 7\n",
    "c - 8\n",
    "d - 2\n",
    "g - 2\n",
    "\n",
    "= 23\n",
    "Hannah: 200 images\n",
    "h - 2\n",
    "j - 1\n",
    "k - 3\n",
    "l - 5\n",
    "m - 1\n",
    "n - 1\n",
    "o - 1\n",
    "p - 3\n",
    "r - 3\n",
    "\n",
    "= 20\n",
    "Marwa: 100 images\n",
    "s - 5\n",
    "t - 1\n",
    "u - 1\n",
    "w - 3\n",
    "y - 1\n",
    "\n",
    "= 14"
   ]
  },
  {
   "cell_type": "markdown",
   "metadata": {},
   "source": [
    "### Remove images in the 'Exclude' column"
   ]
  },
  {
   "cell_type": "markdown",
   "metadata": {},
   "source": [
    "#### SUN Images"
   ]
  },
  {
   "cell_type": "code",
   "execution_count": 25,
   "metadata": {},
   "outputs": [],
   "source": [
    "marwa_SUN_path = '/Users/prachi/Documents/depth_duration/MeanDepth/marwa_sun_selection.csv'\n",
    "\n",
    "hannah_SUN_path = '/Users/prachi/Documents/depth_duration/MeanDepth/hannah_sun_selection.csv'\n",
    "\n",
    "kennedy_SUN_path = '/Users/prachi/Documents/depth_duration/MeanDepth/kennedy_sun_selection.csv'"
   ]
  },
  {
   "cell_type": "code",
   "execution_count": 104,
   "metadata": {},
   "outputs": [
    {
     "data": {
      "text/plain": [
       "500"
      ]
     },
     "execution_count": 104,
     "metadata": {},
     "output_type": "execute_result"
    }
   ],
   "source": [
    "import pandas as pd \n",
    "import random\n",
    "\n",
    "# load exclusion csvs and save as lists \n",
    "raw_SUN_selection = [list(pd.read_csv(marwa_SUN_path)['Selected']), list(pd.read_csv(hannah_SUN_path)['Selected']), list(pd.read_csv(kennedy_SUN_path)['Selected'])]\n",
    "# flatten list \n",
    "flat_SUN_selection = [item for sublist in raw_SUN_selection for item in sublist]\n",
    "# remove NaNs\n",
    "cleaned_SUN_selection = [x for x in flat_SUN_selection if str(x) != 'nan']\n",
    "\n",
    "len(cleaned_SUN_selection)\n",
    "\n",
    "# ADD 6 MORE IMAGES so that total = 500\n",
    "lobby_selected = ['l/lobby/sun_afrlfajzgqhnadpe.jpg',\n",
    "                  'l/lobby/sun_bgbpvhuhzxmtvimk.jpg',\n",
    "                  'l/lobby/sun_bgqfjdbwzmgktxfz.jpg',\n",
    "                  'l/lobby/sun_blrezysmfhmmxuic.jpg']\n",
    "\n",
    "parlor_selected = ['p/parlor/sun_bicdjokshkccozjk.jpg',\n",
    "                   'p/parlor/sun_bwfbjujwjxxnfqnh.jpg']\n",
    "\n",
    "\n",
    "final_SUN_selection = cleaned_SUN_selection + lobby_selected + parlor_selected\n",
    "\n",
    "random.shuffle(final_SUN_selection)\n",
    "\n",
    "len(final_SUN_selection)"
   ]
  },
  {
   "cell_type": "code",
   "execution_count": null,
   "metadata": {},
   "outputs": [],
   "source": []
  },
  {
   "cell_type": "markdown",
   "metadata": {},
   "source": [
    "#### SUN-RGBD Images "
   ]
  },
  {
   "cell_type": "code",
   "execution_count": 105,
   "metadata": {},
   "outputs": [],
   "source": [
    "marwa_SUNRGBD_path = '/Users/prachi/Documents/depth_duration/MeanDepth/marwa_SUNRGBD_selection.csv'\n",
    "\n",
    "suraj_SUNRGBD_path = '/Users/prachi/Documents/depth_duration/MeanDepth/suraj_SUNRGBD_selection.csv'\n"
   ]
  },
  {
   "cell_type": "code",
   "execution_count": 107,
   "metadata": {},
   "outputs": [
    {
     "data": {
      "text/plain": [
       "300"
      ]
     },
     "execution_count": 107,
     "metadata": {},
     "output_type": "execute_result"
    }
   ],
   "source": [
    "import pandas as pd\n",
    "\n",
    "# load exclusion csvs and save as lists \n",
    "raw_SUNRGBD_selection = [list(pd.read_csv(marwa_SUNRGBD_path)['Selected']), list(pd.read_csv(suraj_SUNRGBD_path)['Selected'])]\n",
    "# flatten list \n",
    "flat_SUNRGBD_selection = [item for sublist in raw_SUNRGBD_selection for item in sublist]\n",
    "# remove NaNs\n",
    "cleaned_SUNRGBD_selection = [x for x in flat_SUNRGBD_selection if str(x) != 'nan']\n",
    "\n",
    "# ADD 1 MORE IMAGE so that total = 300\n",
    "final_SUNRGBD_selection = cleaned_SUNRGBD_selection + ['mail_room/000567_2014-06-09_22-51-05_260595134347_rgbf000111-resize/image/0000111.jpg']\n",
    "\n",
    "random.shuffle(final_SUNRGBD_selection)\n",
    "\n",
    "len(final_SUNRGBD_selection)"
   ]
  },
  {
   "cell_type": "markdown",
   "metadata": {},
   "source": [
    "### Hierarchical Grouping Task Design \n",
    "\n",
    "Total Images = 800 (500 SUN, 300 SUNRGBD) \n",
    "\n",
    "Create 4 groups with 200 images total  \n",
    "- Per group --> 125 SUN, 75 SUNRGBD\n",
    "- N = 4 for each group \n"
   ]
  },
  {
   "cell_type": "code",
   "execution_count": 108,
   "metadata": {},
   "outputs": [],
   "source": [
    "group1 = final_SUN_selection[:125] + final_SUNRGBD_selection[:75]\n",
    "random.shuffle(group1)\n",
    "\n",
    "group2 = final_SUN_selection[125:250] + final_SUNRGBD_selection[75:150]\n",
    "random.shuffle(group2)\n",
    "\n",
    "group3 = final_SUN_selection[250:375] + final_SUNRGBD_selection[150:225]\n",
    "random.shuffle(group3)\n",
    "\n",
    "group4 = final_SUN_selection[375:] + final_SUNRGBD_selection[225:]\n",
    "random.shuffle(group4)\n",
    "\n",
    "groups = [group1, group2, group3, group4]"
   ]
  },
  {
   "cell_type": "markdown",
   "metadata": {},
   "source": [
    "#### Create two trial folders for each group\n"
   ]
  },
  {
   "cell_type": "code",
   "execution_count": 109,
   "metadata": {},
   "outputs": [],
   "source": [
    "SUN_dir = '/Users/prachi/Documents/MeanDepth_SUN'\n",
    "\n",
    "SUNRGBD_dir = '/Users/prachi/Documents/MD_SUN-RGBD'"
   ]
  },
  {
   "cell_type": "code",
   "execution_count": 121,
   "metadata": {},
   "outputs": [
    {
     "name": "stdout",
     "output_type": "stream",
     "text": [
      "125 75\n",
      "125 75\n",
      "125 75\n",
      "125 75\n"
     ]
    }
   ],
   "source": [
    "import shutil \n",
    "\n",
    "dest_paths = [['/Users/prachi/Documents/Hierarchical_Grouping_Stimuli/HG_group1/trial1', \n",
    "               '/Users/prachi/Documents/Hierarchical_Grouping_Stimuli/HG_group1/trial2'],\n",
    "              ['/Users/prachi/Documents/Hierarchical_Grouping_Stimuli/HG_group2/trial1', \n",
    "               '/Users/prachi/Documents/Hierarchical_Grouping_Stimuli/HG_group2/trial2'],\n",
    "              ['/Users/prachi/Documents/Hierarchical_Grouping_Stimuli/HG_group3/trial1', \n",
    "               '/Users/prachi/Documents/Hierarchical_Grouping_Stimuli/HG_group3/trial2'],\n",
    "              ['/Users/prachi/Documents/Hierarchical_Grouping_Stimuli/HG_group4/trial1', \n",
    "               '/Users/prachi/Documents/Hierarchical_Grouping_Stimuli/HG_group4/trial2'],]\n",
    "\n",
    "for i in range(len(groups)):\n",
    "    sun_count = 0\n",
    "    sunrgbd_count = 0\n",
    "    trial_count = 0\n",
    "    for img in groups[i]:\n",
    "        trial = None\n",
    "        if 'sun' in img:\n",
    "            sun_count += 1\n",
    "            src = SUN_dir + '/' + img\n",
    "            trial_count += 1\n",
    "            # if trial number is even put the image in trial1, otherwise trial 2\n",
    "            # --> so that there is an even split of images in trial 1 and trial 2\n",
    "            if (trial_count % 2) == 0:\n",
    "                trial = 0\n",
    "                # Copy src to dst. (cp src dst) \n",
    "                shutil.copy(src, dest_paths[i][0])\n",
    "            else:\n",
    "                trial = 1\n",
    "                # Copy src to dst. (cp src dst) \n",
    "                shutil.copy(src, dest_paths[i][1])\n",
    "        else:\n",
    "            sunrgbd_count += 1\n",
    "            src = SUNRGBD_dir + '/' + img\n",
    "            trial_count += 1\n",
    "\n",
    "            if (trial_count % 2) == 0:\n",
    "                trial = 0\n",
    "                # Copy src to dst. (cp src dst) \n",
    "                shutil.copy(src, dest_paths[i][0])\n",
    "            else:\n",
    "                trial = 1\n",
    "                # Copy src to dst. (cp src dst) \n",
    "                shutil.copy(src, dest_paths[i][1])\n",
    "                \n",
    "            # The image should be named by the folder name in SUN-RGBD \n",
    "            # the image number in SUN-RGBD is not unique, which is why folder name is used \n",
    "            oldname = dest_paths[i][trial] + '/' + img.split('/')[-1] \n",
    "            newname = dest_paths[i][trial] + '/' + img.split('/')[1] + '.jpg'\n",
    "            os.rename(oldname, newname)\n",
    "            \n",
    "    print(sun_count, sunrgbd_count)\n",
    "                "
   ]
  },
  {
   "cell_type": "code",
   "execution_count": 125,
   "metadata": {},
   "outputs": [
    {
     "name": "stdout",
     "output_type": "stream",
     "text": [
      "100\n",
      "100\n",
      "200\n",
      "\n",
      "\n",
      "100\n",
      "100\n",
      "200\n",
      "\n",
      "\n",
      "100\n",
      "100\n",
      "200\n",
      "\n",
      "\n",
      "100\n",
      "100\n",
      "200\n",
      "\n",
      "\n"
     ]
    }
   ],
   "source": [
    "# confirm there are 200 images in each group \n",
    "for group in dest_paths:\n",
    "    group_count = 0\n",
    "    for trial in group:\n",
    "        count = 0\n",
    "        for file in os.listdir(trial):\n",
    "            if file != '.DS_Store':\n",
    "                count += 1\n",
    "                group_count += 1\n",
    "        print(count)\n",
    "    print(group_count)\n",
    "    print('\\n')"
   ]
  },
  {
   "cell_type": "code",
   "execution_count": null,
   "metadata": {},
   "outputs": [],
   "source": []
  },
  {
   "cell_type": "code",
   "execution_count": null,
   "metadata": {},
   "outputs": [],
   "source": []
  }
 ],
 "metadata": {
  "kernelspec": {
   "display_name": "Python 3",
   "language": "python",
   "name": "python3"
  },
  "language_info": {
   "codemirror_mode": {
    "name": "ipython",
    "version": 3
   },
   "file_extension": ".py",
   "mimetype": "text/x-python",
   "name": "python",
   "nbconvert_exporter": "python",
   "pygments_lexer": "ipython3",
   "version": "3.6.1"
  }
 },
 "nbformat": 4,
 "nbformat_minor": 4
}
