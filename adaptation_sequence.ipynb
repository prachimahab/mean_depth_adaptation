{
 "cells": [
  {
   "cell_type": "markdown",
   "metadata": {},
   "source": [
    "# Mean Depth Adaptation: Experiment Trial Sequence(s)"
   ]
  },
  {
   "cell_type": "code",
   "execution_count": 1,
   "metadata": {},
   "outputs": [],
   "source": [
    "import numpy as np \n",
    "import json \n",
    "import os\n",
    "import pandas as pd\n",
    "import csv\n",
    "import copy\n",
    "import random"
   ]
  },
  {
   "cell_type": "code",
   "execution_count": 2,
   "metadata": {},
   "outputs": [],
   "source": [
    "low_destination = '/Users/prachi/Documents/MeanDepthAdaptation_Stimuli/low_pole'\n",
    "control_destination = '/Users/prachi/Documents/MeanDepthAdaptation_Stimuli/control'\n",
    "medium_destination = '/Users/prachi/Documents/MeanDepthAdaptation_Stimuli/medium'\n",
    "high_destination = '/Users/prachi/Documents/MeanDepthAdaptation_Stimuli/high_pole'"
   ]
  },
  {
   "cell_type": "markdown",
   "metadata": {},
   "source": [
    "#### How many repeats (one back instances) should I include?\n",
    "\n",
    "- 7 on average \n",
    "- randomly dispersed? \n",
    "- how many versions of the experiment should I make?"
   ]
  },
  {
   "cell_type": "code",
   "execution_count": 3,
   "metadata": {},
   "outputs": [],
   "source": [
    "# dict that keeps track of image assignment\n",
    "final_stimuli = {'low': [], 'SUN_medium': [], 'SUN-RGBD_medium': [], 'test_images': [], 'high': [], 'control': []}\n"
   ]
  },
  {
   "cell_type": "code",
   "execution_count": 4,
   "metadata": {},
   "outputs": [
    {
     "data": {
      "text/plain": [
       "(85, 40)"
      ]
     },
     "execution_count": 4,
     "metadata": {},
     "output_type": "execute_result"
    }
   ],
   "source": [
    "count_medium = 0\n",
    "count_SUNRGBD_medium = 0\n",
    "for img in os.listdir(medium_destination+'/SUN_medium'):\n",
    "    if img != '.DS_Store':\n",
    "        count_medium += 1\n",
    "        final_stimuli['SUN_medium'].append(img)\n",
    "for img in os.listdir(medium_destination+'/SUN-RGBD_medium'):\n",
    "    if img != '.DS_Store':\n",
    "        count_medium += 1\n",
    "        count_SUNRGBD_medium += 1\n",
    "        final_stimuli['SUN-RGBD_medium'].append(img)\n",
    "count_medium, count_SUNRGBD_medium\n",
    "\n",
    "# TO DO: Need to select 30 test images from SUN-RGBD_control \n",
    "# After selecting test images, pare down control set to 100 images\n",
    "\n",
    "# NOTE that the control group represents images across all ranks and the test images are only 25-75, \n",
    "## i.e. images that are NOT in the low or high pole.\n",
    "### When selecting test images make SURE they are exclusively in the middle (25-75) and not in low or high\n"
   ]
  },
  {
   "cell_type": "code",
   "execution_count": 5,
   "metadata": {},
   "outputs": [
    {
     "data": {
      "text/plain": [
       "100"
      ]
     },
     "execution_count": 5,
     "metadata": {},
     "output_type": "execute_result"
    }
   ],
   "source": [
    "count_high = 0\n",
    "for img in os.listdir(high_destination):\n",
    "    if img != '.DS_Store':\n",
    "        count_high += 1\n",
    "        final_stimuli['high'].append(img)\n",
    "count_high"
   ]
  },
  {
   "cell_type": "code",
   "execution_count": 6,
   "metadata": {},
   "outputs": [],
   "source": [
    "# only 100 images were needed, so 5 images were removed \n",
    "imgs_removed = ['002672_2014-06-13_16-06-56_094959634447_rgbf000153-resize.jpg',\n",
    "        'sun_adrfwejsmwzeufqt.jpg', \n",
    "        'sun_ajhgyizucknowlhm.jpg',\n",
    "        'sun_blyyqnakwazdxqoo.jpg',\n",
    "        '000103_2014-05-14_22-01-17_260595134347_rgbf000152-resize.jpg']"
   ]
  },
  {
   "cell_type": "code",
   "execution_count": 7,
   "metadata": {},
   "outputs": [
    {
     "data": {
      "text/plain": [
       "100"
      ]
     },
     "execution_count": 7,
     "metadata": {},
     "output_type": "execute_result"
    }
   ],
   "source": [
    "count_low = 0\n",
    "for img in os.listdir(low_destination):\n",
    "    if img != '.DS_Store':\n",
    "        count_low += 1\n",
    "        final_stimuli['low'].append(img)\n",
    "count_low"
   ]
  },
  {
   "cell_type": "code",
   "execution_count": 8,
   "metadata": {},
   "outputs": [
    {
     "data": {
      "text/plain": [
       "100"
      ]
     },
     "execution_count": 8,
     "metadata": {},
     "output_type": "execute_result"
    }
   ],
   "source": [
    "count_control = 0\n",
    "for img in os.listdir(control_destination):\n",
    "    if img != '.DS_Store':\n",
    "        count_control += 1\n",
    "        final_stimuli['control'].append(img)\n",
    "count_control"
   ]
  },
  {
   "cell_type": "markdown",
   "metadata": {},
   "source": [
    "### Save final stimuli assignments to a csv"
   ]
  },
  {
   "cell_type": "code",
   "execution_count": 88,
   "metadata": {},
   "outputs": [
    {
     "name": "stderr",
     "output_type": "stream",
     "text": [
      "/Users/prachi/Documents/depth_duration/experiment/lib/python3.6/site-packages/ipykernel_launcher.py:1: DeprecationWarning: The default dtype for empty Series will be 'object' instead of 'float64' in a future version. Specify a dtype explicitly to silence this warning.\n",
      "  \"\"\"Entry point for launching an IPython kernel.\n"
     ]
    }
   ],
   "source": [
    "df = pd.DataFrame({key: pd.Series(value) for key, value in final_stimuli.items()})\n",
    "df.to_csv(\"MeanDepthAdaptation_Stimuli.csv\", encoding='utf-8', index=False)"
   ]
  },
  {
   "cell_type": "markdown",
   "metadata": {},
   "source": [
    "## Low Pole: Adaptation Sequence\n",
    "\n",
    "On average 7 repeats in the stream "
   ]
  },
  {
   "cell_type": "code",
   "execution_count": 9,
   "metadata": {},
   "outputs": [
    {
     "data": {
      "text/plain": [
       "100"
      ]
     },
     "execution_count": 9,
     "metadata": {},
     "output_type": "execute_result"
    }
   ],
   "source": [
    "low = copy.deepcopy(final_stimuli['low'])\n",
    "len(low)"
   ]
  },
  {
   "cell_type": "code",
   "execution_count": 10,
   "metadata": {},
   "outputs": [],
   "source": [
    "low_800 = low * 8\n",
    "random.shuffle(low_800)"
   ]
  },
  {
   "cell_type": "code",
   "execution_count": 11,
   "metadata": {},
   "outputs": [
    {
     "data": {
      "text/plain": [
       "(18, 0)"
      ]
     },
     "execution_count": 11,
     "metadata": {},
     "output_type": "execute_result"
    }
   ],
   "source": [
    "count = 0 \n",
    "both = 0\n",
    "low_repeat_indeces = []\n",
    "# loop through sequence \n",
    "for i in range(len(low_800)):\n",
    "    if i != 0 and i !=len(low_800)-1:\n",
    "        adj_left = low_800[i-1] \n",
    "        adj_right = low_800[i+1]\n",
    "        if low_800[i] == adj_left:\n",
    "            count += 1 # repeat on the left \n",
    "            low_repeat_indeces.append(i)\n",
    "            if low_800[i] == adj_right:\n",
    "                both += 1 # repeat on left and right (do NOT want)\n",
    "        if low_800[i] != adj_left:\n",
    "            if low_800[i] == adj_right:\n",
    "                low_repeat_indeces.append(i)\n",
    "                count += 1 # repeat on the right \n",
    "\n",
    "count, both\n",
    "# want count to be around 14 (7 1 back repeats)"
   ]
  },
  {
   "cell_type": "code",
   "execution_count": 12,
   "metadata": {},
   "outputs": [
    {
     "name": "stdout",
     "output_type": "stream",
     "text": [
      "17\n",
      "[28, 29, 388, 389, 489, 490, 491, 492, 540, 541, 566, 567, 652, 653, 689, 690, 708, 709]\n"
     ]
    },
    {
     "data": {
      "text/plain": [
       "[359, 100, 1, 48, 25, 85, 36, 18]"
      ]
     },
     "execution_count": 12,
     "metadata": {},
     "output_type": "execute_result"
    }
   ],
   "source": [
    "# check indeces for the repeats --> want the repeats to be relatively spread \n",
    "differences = [] # distances between the repeats \n",
    "for i in range(len(low_repeat_indeces)):\n",
    "    if i % 2 != 0:\n",
    "        try:\n",
    "            diff = low_repeat_indeces[i+1] - low_repeat_indeces[i]\n",
    "            differences.append(diff)\n",
    "        except:\n",
    "            print(i)\n",
    "\n",
    "print(low_repeat_indeces)\n",
    "differences # FYI ~35 difference is about 7s "
   ]
  },
  {
   "cell_type": "code",
   "execution_count": 13,
   "metadata": {},
   "outputs": [
    {
     "name": "stdout",
     "output_type": "stream",
     "text": [
      "18\n"
     ]
    },
    {
     "data": {
      "text/plain": [
       "{'001375_2014-06-19_15-56-19_260595134347_rgbf000078-resize.jpg',\n",
       " '001411_2014-06-19_16-21-54_260595134347_rgbf000171-resize.jpg',\n",
       " '001614_2014-06-20_11-34-38_260595134347_rgbf000047-resize.jpg',\n",
       " '002740_2014-06-22_12-06-35_094959634447_rgbf000032-resize.jpg',\n",
       " '003099_2014-06-24_21-04-53_094959634447_rgbf000076-resize.jpg',\n",
       " '003102_2014-06-24_21-05-50_094959634447_rgbf000070-resize.jpg',\n",
       " 'sun_asduhifcdfyekcdz.jpg',\n",
       " 'sun_bpagosmwpwzxeyrc.jpg',\n",
       " 'sun_bpzzatthlcapxzol.jpg'}"
      ]
     },
     "execution_count": 13,
     "metadata": {},
     "output_type": "execute_result"
    }
   ],
   "source": [
    "low_repeat_images = []\n",
    "for idx in low_repeat_indeces:\n",
    "    low_repeat_images.append(low_800[idx])\n",
    "\n",
    "print(len(low_repeat_indeces))\n",
    "low_repeat_images = set(low_repeat_images)\n",
    "low_repeat_images"
   ]
  },
  {
   "cell_type": "code",
   "execution_count": 393,
   "metadata": {},
   "outputs": [],
   "source": [
    "final_low = copy.deepcopy(low_800)\n",
    "final_low_repeat_indeces = copy.deepcopy(low_repeat_indeces)\n",
    "final_low_repeat_stimuli = copy.deepcopy(low_repeat_images)"
   ]
  },
  {
   "cell_type": "markdown",
   "metadata": {},
   "source": [
    "## High Pole: Adaptation Sequence"
   ]
  },
  {
   "cell_type": "code",
   "execution_count": 257,
   "metadata": {},
   "outputs": [
    {
     "data": {
      "text/plain": [
       "100"
      ]
     },
     "execution_count": 257,
     "metadata": {},
     "output_type": "execute_result"
    }
   ],
   "source": [
    "high = copy.deepcopy(final_stimuli['high'])\n",
    "len(high)"
   ]
  },
  {
   "cell_type": "code",
   "execution_count": 225,
   "metadata": {},
   "outputs": [],
   "source": [
    "high_800 = high * 8\n",
    "random.shuffle(high_800)"
   ]
  },
  {
   "cell_type": "code",
   "execution_count": 271,
   "metadata": {},
   "outputs": [
    {
     "data": {
      "text/plain": [
       "(12, 0)"
      ]
     },
     "execution_count": 271,
     "metadata": {},
     "output_type": "execute_result"
    }
   ],
   "source": [
    "count = 0\n",
    "both = 0\n",
    "high_repeat_indeces = []\n",
    "for i in range(len(high_800)):\n",
    "    if i != 0 and i !=len(high_800)-1:\n",
    "        adj_left = high_800[i-1] \n",
    "        adj_right = high_800[i+1]\n",
    "        if high_800[i] == adj_left:\n",
    "            count += 1\n",
    "            high_repeat_indeces.append(i)\n",
    "            if high_800[i] == adj_right:\n",
    "                both += 1\n",
    "        if high_800[i] != adj_left:\n",
    "            if high_800[i] == adj_right:\n",
    "                high_repeat_indeces.append(i)\n",
    "                count += 1\n",
    "\n",
    "count, both\n",
    "# want count to be around 14 (7 1 back repeats)"
   ]
  },
  {
   "cell_type": "code",
   "execution_count": 344,
   "metadata": {},
   "outputs": [
    {
     "name": "stdout",
     "output_type": "stream",
     "text": [
      "11\n",
      "[112, 113, 279, 280, 362, 363, 456, 457, 517, 518, 629, 630]\n"
     ]
    },
    {
     "data": {
      "text/plain": [
       "[166, 82, 93, 60, 111]"
      ]
     },
     "execution_count": 344,
     "metadata": {},
     "output_type": "execute_result"
    }
   ],
   "source": [
    "differences = []\n",
    "for i in range(len(high_repeat_indeces)):\n",
    "    if i % 2 != 0:\n",
    "        try:\n",
    "            diff = high_repeat_indeces[i+1] - high_repeat_indeces[i]\n",
    "            differences.append(diff)\n",
    "        except:\n",
    "            print(i)\n",
    "\n",
    "print(high_repeat_indeces)\n",
    "differences"
   ]
  },
  {
   "cell_type": "code",
   "execution_count": 394,
   "metadata": {},
   "outputs": [
    {
     "name": "stdout",
     "output_type": "stream",
     "text": [
      "12\n"
     ]
    },
    {
     "data": {
      "text/plain": [
       "{'sun_abxnragferwudbgs.jpg',\n",
       " 'sun_aduhygrfpghchdch.jpg',\n",
       " 'sun_afrlfajzgqhnadpe.jpg',\n",
       " 'sun_ahsjwikeppwlqtlx.jpg',\n",
       " 'sun_bnhgmewonjiyiecs.jpg',\n",
       " 'sun_dstsuurgeihyfgib.jpg'}"
      ]
     },
     "execution_count": 394,
     "metadata": {},
     "output_type": "execute_result"
    }
   ],
   "source": [
    "high_repeat_images = []\n",
    "for idx in high_repeat_indeces:\n",
    "    high_repeat_images.append(high_800[idx])\n",
    "\n",
    "print(len(high_repeat_indeces))\n",
    "high_repeat_images = set(high_repeat_images)\n",
    "high_repeat_images"
   ]
  },
  {
   "cell_type": "code",
   "execution_count": 397,
   "metadata": {},
   "outputs": [],
   "source": [
    "final_high = copy.deepcopy(high_800)\n",
    "final_high_repeat_indeces = copy.deepcopy(high_repeat_indeces)\n",
    "final_high_repeat_stimuli = copy.deepcopy(high_repeat_images)"
   ]
  },
  {
   "cell_type": "markdown",
   "metadata": {},
   "source": [
    "## Control: Adaptation Sequence"
   ]
  },
  {
   "cell_type": "code",
   "execution_count": 346,
   "metadata": {},
   "outputs": [
    {
     "data": {
      "text/plain": [
       "100"
      ]
     },
     "execution_count": 346,
     "metadata": {},
     "output_type": "execute_result"
    }
   ],
   "source": [
    "control = copy.deepcopy(final_stimuli['control'])\n",
    "len(control)"
   ]
  },
  {
   "cell_type": "code",
   "execution_count": 372,
   "metadata": {},
   "outputs": [],
   "source": [
    "control_800 = control * 8\n",
    "random.shuffle(control_800)"
   ]
  },
  {
   "cell_type": "code",
   "execution_count": 373,
   "metadata": {},
   "outputs": [
    {
     "data": {
      "text/plain": [
       "(16, 0)"
      ]
     },
     "execution_count": 373,
     "metadata": {},
     "output_type": "execute_result"
    }
   ],
   "source": [
    "count = 0\n",
    "both = 0\n",
    "control_repeat_indeces = []\n",
    "for i in range(len(control_800)):\n",
    "    if i != 0 and i !=len(control_800)-1:\n",
    "        adj_left = control_800[i-1] \n",
    "        adj_right = control_800[i+1]\n",
    "        if control_800[i] == adj_left:\n",
    "            count += 1\n",
    "            control_repeat_indeces.append(i)\n",
    "            if control_800[i] == adj_right:\n",
    "                both += 1\n",
    "        if control_800[i] != adj_left:\n",
    "            if control_800[i] == adj_right:\n",
    "                control_repeat_indeces.append(i)\n",
    "                count += 1\n",
    "\n",
    "count, both\n",
    "# want count to be around 14 (7 1 back repeats)"
   ]
  },
  {
   "cell_type": "code",
   "execution_count": 375,
   "metadata": {},
   "outputs": [
    {
     "name": "stdout",
     "output_type": "stream",
     "text": [
      "15\n",
      "[36, 37, 150, 151, 180, 181, 324, 325, 341, 342, 413, 414, 485, 486, 558, 559]\n"
     ]
    },
    {
     "data": {
      "text/plain": [
       "[113, 29, 143, 16, 71, 71, 72]"
      ]
     },
     "execution_count": 375,
     "metadata": {},
     "output_type": "execute_result"
    }
   ],
   "source": [
    "differences = []\n",
    "for i in range(len(control_repeat_indeces)):\n",
    "    if i % 2 != 0:\n",
    "        try:\n",
    "            diff = control_repeat_indeces[i+1] - control_repeat_indeces[i]\n",
    "            differences.append(diff)\n",
    "        except:\n",
    "            print(i)\n",
    "\n",
    "print(control_repeat_indeces)\n",
    "differences"
   ]
  },
  {
   "cell_type": "code",
   "execution_count": 396,
   "metadata": {},
   "outputs": [
    {
     "name": "stdout",
     "output_type": "stream",
     "text": [
      "16\n"
     ]
    },
    {
     "data": {
      "text/plain": [
       "{'000138_2014-05-20_17-10-15_260595134347_rgbf000140-resize.jpg',\n",
       " '000694_2014-06-08_13-12-30_260595134347_rgbf000219-resize.jpg',\n",
       " '000828_2014-06-04_19-48-29_260595134347_rgbf000105-resize.jpg',\n",
       " 'sun_aatcallmtwwrjdkw.jpg',\n",
       " 'sun_afqpcwgwvbqdrysa.jpg',\n",
       " 'sun_bjrkxxgvnxwtdykz.jpg',\n",
       " 'sun_bnhgmewonjiyiecs.jpg',\n",
       " 'sun_byzuzoqljxuwtvti.jpg'}"
      ]
     },
     "execution_count": 396,
     "metadata": {},
     "output_type": "execute_result"
    }
   ],
   "source": [
    "control_repeat_images = []\n",
    "for idx in control_repeat_indeces:\n",
    "    control_repeat_images.append(control_800[idx])\n",
    "\n",
    "print(len(control_repeat_indeces))\n",
    "control_repeat_images = set(control_repeat_images)\n",
    "control_repeat_images"
   ]
  },
  {
   "cell_type": "code",
   "execution_count": 398,
   "metadata": {},
   "outputs": [],
   "source": [
    "final_control = copy.deepcopy(control_800)\n",
    "final_control_repeat_indeces = copy.deepcopy(control_repeat_indeces)\n",
    "final_control_repeat_stimuli = copy.deepcopy(control_repeat_images)"
   ]
  },
  {
   "cell_type": "code",
   "execution_count": null,
   "metadata": {},
   "outputs": [],
   "source": []
  },
  {
   "cell_type": "markdown",
   "metadata": {},
   "source": [
    "### Notes:\n",
    "- participants press spacebar to indicate that they saw a 1-back repeat \n",
    "- keypress listener needs to be on the whole time (think about logging procedure) \n",
    "\n",
    "# QUESTIONS:\n",
    "- do we even need to log participant responses here?? \n",
    "    - SEE WHAT GREENE OLIVA DID \n",
    "    - outlier criterion: if participant misses x number of repeats toss them? \n",
    "    - could just do a count of how many times they pressed the spacebar since we know how many 1-back trials there are\n",
    "    - will start pre reg document\n",
    "    * if they respond anywhere within 2 seconds give them the credit \n",
    "    * 4/7 repeats or give them - 10 out of 21 misses is allowable otherwise exclude \n",
    "    * could score as hit rate and false alarm rate \n",
    "- 7 repeats on average for each sequence \n",
    "    - generally well spread out but not exactly equal \n",
    "        - good so that participants do not expect it?\n"
   ]
  },
  {
   "cell_type": "code",
   "execution_count": null,
   "metadata": {},
   "outputs": [],
   "source": []
  },
  {
   "cell_type": "code",
   "execution_count": null,
   "metadata": {},
   "outputs": [],
   "source": []
  }
 ],
 "metadata": {
  "kernelspec": {
   "display_name": "Python 3",
   "language": "python",
   "name": "python3"
  },
  "language_info": {
   "codemirror_mode": {
    "name": "ipython",
    "version": 3
   },
   "file_extension": ".py",
   "mimetype": "text/x-python",
   "name": "python",
   "nbconvert_exporter": "python",
   "pygments_lexer": "ipython3",
   "version": "3.6.1"
  }
 },
 "nbformat": 4,
 "nbformat_minor": 4
}
